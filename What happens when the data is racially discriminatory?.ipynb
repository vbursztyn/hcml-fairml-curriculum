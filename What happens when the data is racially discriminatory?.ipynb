{
 "cells": [
  {
   "cell_type": "markdown",
   "metadata": {},
   "source": [
    "### Setting up graphviz used to convert Decision Trees into graphs, which are then rendered."
   ]
  },
  {
   "cell_type": "markdown",
   "metadata": {},
   "source": [
    "#### (Switch from markdown to code if you would like to run.)"
   ]
  },
  {
   "cell_type": "markdown",
   "metadata": {},
   "source": [
    "import sys"
   ]
  },
  {
   "cell_type": "markdown",
   "metadata": {},
   "source": [
    "!{sys.executable} -m pip install graphviz"
   ]
  },
  {
   "cell_type": "markdown",
   "metadata": {},
   "source": [
    "#### Note: graphviz needs to be installed through ``brew`` or ``apt-get``, for instance, as this is only a python binding."
   ]
  },
  {
   "cell_type": "markdown",
   "metadata": {},
   "source": [
    "### Interactively fitting a Decision Tree."
   ]
  },
  {
   "cell_type": "code",
   "execution_count": 1,
   "metadata": {},
   "outputs": [],
   "source": [
    "import pandas as pd\n",
    "import numpy as np\n",
    "\n",
    "from sklearn.tree import DecisionTreeRegressor, export_graphviz\n",
    "\n",
    "from graphviz import Source\n",
    "\n",
    "from IPython.display import SVG\n",
    "from IPython.display import display                               \n",
    "from ipywidgets import interactive"
   ]
  },
  {
   "cell_type": "code",
   "execution_count": 3,
   "metadata": {},
   "outputs": [
    {
     "data": {
      "application/vnd.jupyter.widget-view+json": {
       "model_id": "1f496b3f73954a1f933f85875552e90e",
       "version_major": 2,
       "version_minor": 0
      },
      "text/plain": [
       "interactive(children=(FloatSlider(value=1.0, description='data_bias', max=3.0, min=-1.0), Output()), _dom_clas…"
      ]
     },
     "metadata": {},
     "output_type": "display_data"
    }
   ],
   "source": [
    "ratio = 1.0\n",
    "pct_black_median = None\n",
    "\n",
    "\n",
    "# If a given row x (a training example) has 'racepctblack' greater than the median value, then\n",
    "# multiply the outcome 'ViolentCrimesPerPop' by the user-defined ratio; otherwise, multiply by\n",
    "# the inverse of the user-defined ratio.\n",
    "# Interpretation: the greater the ratio, the worst is the bias against communities with above\n",
    "# average Black populations; the smaller the ratio, the more favorable is the bias; setting to\n",
    "# 1.0 keeps the data in its original form.\n",
    "\n",
    "def apply_bias(x):\n",
    "    global ratio, pct_black_median\n",
    "    return x['ViolentCrimesPerPop']*ratio if x['racepctblack'] > pct_black_median else x['ViolentCrimesPerPop']*(1/ratio)\n",
    "\n",
    "\n",
    "def plot_tree(data_bias=1.0):\n",
    "    global ratio, pct_black_median # Made global to interface with function apply_bias\n",
    "    ratio = data_bias # Set the amount of bias to whatever the user defines through the slider\n",
    "    \n",
    "    # Load the data from scratch every time\n",
    "    df_crimes = pd.read_csv('communities.data')\n",
    "    df_crimes.drop('communityname', inplace=True, axis=1) # Drop categorical data\n",
    "    df_cleaned = df_crimes.replace({'?': np.nan}).dropna() # Drop missing values\n",
    "    \n",
    "    # Median also used in function apply_bias\n",
    "    pct_black_median = df_cleaned['racepctblack'].median()\n",
    "    \n",
    "    df_biased = df_cleaned\n",
    "    df_biased['ViolentCrimesPerPop'] = df_biased.apply(apply_bias, axis=1)\n",
    "    \n",
    "    # Vanilla ML\n",
    "    X = df_biased[df_biased.columns[:-1]]\n",
    "    Y = df_biased['ViolentCrimesPerPop']\n",
    "    estimator = DecisionTreeRegressor(random_state=0, criterion='mse', splitter= 'best', max_depth=5)\n",
    "    estimator.fit(X, Y)\n",
    "    \n",
    "    # Render Decision Tree\n",
    "    labels = X.columns\n",
    "    graph = Source(export_graphviz(estimator, out_file=None, feature_names=labels, filled = True))\n",
    "    display(SVG(graph.pipe(format='svg')))\n",
    "    return estimator\n",
    "\n",
    "\n",
    "inter=interactive(plot_tree, bias=1.0)\n",
    "display(inter)"
   ]
  },
  {
   "cell_type": "code",
   "execution_count": null,
   "metadata": {},
   "outputs": [],
   "source": []
  }
 ],
 "metadata": {
  "kernelspec": {
   "display_name": "Python 3",
   "language": "python",
   "name": "python3"
  },
  "language_info": {
   "codemirror_mode": {
    "name": "ipython",
    "version": 3
   },
   "file_extension": ".py",
   "mimetype": "text/x-python",
   "name": "python",
   "nbconvert_exporter": "python",
   "pygments_lexer": "ipython3",
   "version": "3.7.6"
  }
 },
 "nbformat": 4,
 "nbformat_minor": 4
}
