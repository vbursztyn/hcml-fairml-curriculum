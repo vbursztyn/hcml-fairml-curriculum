{
 "cells": [
  {
   "cell_type": "markdown",
   "metadata": {},
   "source": [
    "### Make sure some stuff are set up"
   ]
  },
  {
   "cell_type": "markdown",
   "metadata": {},
   "source": [
    "1. Run `jupyter nbextension enable --py widgetsnbextension` to enable widgets"
   ]
  },
  {
   "cell_type": "markdown",
   "metadata": {},
   "source": [
    "2. Install graphviz through ``brew`` or ``apt-get``"
   ]
  },
  {
   "cell_type": "markdown",
   "metadata": {},
   "source": [
    "3. Install graphviz's Python binding:"
   ]
  },
  {
   "cell_type": "markdown",
   "metadata": {},
   "source": [
    "    import sys\n",
    "    !{sys.executable} -m pip install graphviz"
   ]
  },
  {
   "cell_type": "markdown",
   "metadata": {},
   "source": [
    "### Import dependencies"
   ]
  },
  {
   "cell_type": "code",
   "execution_count": 1,
   "metadata": {},
   "outputs": [],
   "source": [
    "import matplotlib\n",
    "import pandas as pd\n",
    "import numpy as np\n",
    "\n",
    "from sklearn.tree import DecisionTreeRegressor, DecisionTreeClassifier, export_graphviz\n",
    "\n",
    "from graphviz import Source\n",
    "\n",
    "from IPython.display import SVG\n",
    "from IPython.display import display                               \n",
    "from ipywidgets import interactive\n",
    "\n",
    "import ipywidgets as widgets"
   ]
  },
  {
   "cell_type": "markdown",
   "metadata": {},
   "source": [
    "### How does the data look like?"
   ]
  },
  {
   "cell_type": "markdown",
   "metadata": {},
   "source": [
    "NOTE: Trying to figure out which of the CSV files to use from the Kaggle dataset right now\n",
    "\n",
    "According to the ProPublica description of their [data](https://www.propublica.org/article/how-we-analyzed-the-compas-recidivism-algorithm) they considered the following factors:\n",
    "race, criminal history, future recidivism, charge degree, gender, and age."
   ]
  },
  {
   "cell_type": "markdown",
   "metadata": {},
   "source": [
    "They first did a logistic regression to test for racial disparities in results. They then ran a Cox proportional hazards model (which is what COMPAS's parent company did to assess the algorithm) to test the predictive accuracy of the COMPAS algorithm.  \n",
    "\n",
    "Variables in the logistic regression included:\n",
    "- each race category\n",
    "- each age category\n",
    "- number of priors\n",
    "- misdimeanor\n",
    "- two year recidivism \n",
    "- each age category (e.g. less than 25, greater than 45, etc)\n",
    "- each sex category"
   ]
  },
  {
   "cell_type": "code",
   "execution_count": 2,
   "metadata": {},
   "outputs": [
    {
     "data": {
      "text/html": [
       "<div>\n",
       "<style scoped>\n",
       "    .dataframe tbody tr th:only-of-type {\n",
       "        vertical-align: middle;\n",
       "    }\n",
       "\n",
       "    .dataframe tbody tr th {\n",
       "        vertical-align: top;\n",
       "    }\n",
       "\n",
       "    .dataframe thead th {\n",
       "        text-align: right;\n",
       "    }\n",
       "</style>\n",
       "<table border=\"1\" class=\"dataframe\">\n",
       "  <thead>\n",
       "    <tr style=\"text-align: right;\">\n",
       "      <th></th>\n",
       "      <th>Person_ID</th>\n",
       "      <th>AssessmentID</th>\n",
       "      <th>Case_ID</th>\n",
       "      <th>Agency_Text</th>\n",
       "      <th>LastName</th>\n",
       "      <th>FirstName</th>\n",
       "      <th>MiddleName</th>\n",
       "      <th>Sex_Code_Text</th>\n",
       "      <th>Ethnic_Code_Text</th>\n",
       "      <th>DateOfBirth</th>\n",
       "      <th>...</th>\n",
       "      <th>RecSupervisionLevel</th>\n",
       "      <th>RecSupervisionLevelText</th>\n",
       "      <th>Scale_ID</th>\n",
       "      <th>DisplayText</th>\n",
       "      <th>RawScore</th>\n",
       "      <th>DecileScore</th>\n",
       "      <th>ScoreText</th>\n",
       "      <th>AssessmentType</th>\n",
       "      <th>IsCompleted</th>\n",
       "      <th>IsDeleted</th>\n",
       "    </tr>\n",
       "  </thead>\n",
       "  <tbody>\n",
       "    <tr>\n",
       "      <th>0</th>\n",
       "      <td>50844</td>\n",
       "      <td>57167</td>\n",
       "      <td>51950</td>\n",
       "      <td>PRETRIAL</td>\n",
       "      <td>Fisher</td>\n",
       "      <td>Kevin</td>\n",
       "      <td>NaN</td>\n",
       "      <td>Male</td>\n",
       "      <td>Caucasian</td>\n",
       "      <td>12/05/92</td>\n",
       "      <td>...</td>\n",
       "      <td>1</td>\n",
       "      <td>Low</td>\n",
       "      <td>7</td>\n",
       "      <td>Risk of Violence</td>\n",
       "      <td>-2.08</td>\n",
       "      <td>4</td>\n",
       "      <td>Low</td>\n",
       "      <td>New</td>\n",
       "      <td>1</td>\n",
       "      <td>0</td>\n",
       "    </tr>\n",
       "    <tr>\n",
       "      <th>1</th>\n",
       "      <td>50844</td>\n",
       "      <td>57167</td>\n",
       "      <td>51950</td>\n",
       "      <td>PRETRIAL</td>\n",
       "      <td>Fisher</td>\n",
       "      <td>Kevin</td>\n",
       "      <td>NaN</td>\n",
       "      <td>Male</td>\n",
       "      <td>Caucasian</td>\n",
       "      <td>12/05/92</td>\n",
       "      <td>...</td>\n",
       "      <td>1</td>\n",
       "      <td>Low</td>\n",
       "      <td>8</td>\n",
       "      <td>Risk of Recidivism</td>\n",
       "      <td>-1.06</td>\n",
       "      <td>2</td>\n",
       "      <td>Low</td>\n",
       "      <td>New</td>\n",
       "      <td>1</td>\n",
       "      <td>0</td>\n",
       "    </tr>\n",
       "    <tr>\n",
       "      <th>2</th>\n",
       "      <td>50844</td>\n",
       "      <td>57167</td>\n",
       "      <td>51950</td>\n",
       "      <td>PRETRIAL</td>\n",
       "      <td>Fisher</td>\n",
       "      <td>Kevin</td>\n",
       "      <td>NaN</td>\n",
       "      <td>Male</td>\n",
       "      <td>Caucasian</td>\n",
       "      <td>12/05/92</td>\n",
       "      <td>...</td>\n",
       "      <td>1</td>\n",
       "      <td>Low</td>\n",
       "      <td>18</td>\n",
       "      <td>Risk of Failure to Appear</td>\n",
       "      <td>15.00</td>\n",
       "      <td>1</td>\n",
       "      <td>Low</td>\n",
       "      <td>New</td>\n",
       "      <td>1</td>\n",
       "      <td>0</td>\n",
       "    </tr>\n",
       "    <tr>\n",
       "      <th>3</th>\n",
       "      <td>50848</td>\n",
       "      <td>57174</td>\n",
       "      <td>51956</td>\n",
       "      <td>PRETRIAL</td>\n",
       "      <td>KENDALL</td>\n",
       "      <td>KEVIN</td>\n",
       "      <td>NaN</td>\n",
       "      <td>Male</td>\n",
       "      <td>Caucasian</td>\n",
       "      <td>09/16/84</td>\n",
       "      <td>...</td>\n",
       "      <td>1</td>\n",
       "      <td>Low</td>\n",
       "      <td>7</td>\n",
       "      <td>Risk of Violence</td>\n",
       "      <td>-2.84</td>\n",
       "      <td>2</td>\n",
       "      <td>Low</td>\n",
       "      <td>New</td>\n",
       "      <td>1</td>\n",
       "      <td>0</td>\n",
       "    </tr>\n",
       "    <tr>\n",
       "      <th>4</th>\n",
       "      <td>50848</td>\n",
       "      <td>57174</td>\n",
       "      <td>51956</td>\n",
       "      <td>PRETRIAL</td>\n",
       "      <td>KENDALL</td>\n",
       "      <td>KEVIN</td>\n",
       "      <td>NaN</td>\n",
       "      <td>Male</td>\n",
       "      <td>Caucasian</td>\n",
       "      <td>09/16/84</td>\n",
       "      <td>...</td>\n",
       "      <td>1</td>\n",
       "      <td>Low</td>\n",
       "      <td>8</td>\n",
       "      <td>Risk of Recidivism</td>\n",
       "      <td>-1.50</td>\n",
       "      <td>1</td>\n",
       "      <td>Low</td>\n",
       "      <td>New</td>\n",
       "      <td>1</td>\n",
       "      <td>0</td>\n",
       "    </tr>\n",
       "  </tbody>\n",
       "</table>\n",
       "<p>5 rows × 28 columns</p>\n",
       "</div>"
      ],
      "text/plain": [
       "   Person_ID  AssessmentID  Case_ID Agency_Text LastName FirstName MiddleName  \\\n",
       "0      50844         57167    51950    PRETRIAL   Fisher     Kevin        NaN   \n",
       "1      50844         57167    51950    PRETRIAL   Fisher     Kevin        NaN   \n",
       "2      50844         57167    51950    PRETRIAL   Fisher     Kevin        NaN   \n",
       "3      50848         57174    51956    PRETRIAL  KENDALL     KEVIN        NaN   \n",
       "4      50848         57174    51956    PRETRIAL  KENDALL     KEVIN        NaN   \n",
       "\n",
       "  Sex_Code_Text Ethnic_Code_Text DateOfBirth  ...  RecSupervisionLevel  \\\n",
       "0          Male        Caucasian    12/05/92  ...                    1   \n",
       "1          Male        Caucasian    12/05/92  ...                    1   \n",
       "2          Male        Caucasian    12/05/92  ...                    1   \n",
       "3          Male        Caucasian    09/16/84  ...                    1   \n",
       "4          Male        Caucasian    09/16/84  ...                    1   \n",
       "\n",
       "  RecSupervisionLevelText Scale_ID                DisplayText RawScore  \\\n",
       "0                     Low        7           Risk of Violence    -2.08   \n",
       "1                     Low        8         Risk of Recidivism    -1.06   \n",
       "2                     Low       18  Risk of Failure to Appear    15.00   \n",
       "3                     Low        7           Risk of Violence    -2.84   \n",
       "4                     Low        8         Risk of Recidivism    -1.50   \n",
       "\n",
       "  DecileScore ScoreText AssessmentType  IsCompleted IsDeleted  \n",
       "0           4       Low            New            1         0  \n",
       "1           2       Low            New            1         0  \n",
       "2           1       Low            New            1         0  \n",
       "3           2       Low            New            1         0  \n",
       "4           1       Low            New            1         0  \n",
       "\n",
       "[5 rows x 28 columns]"
      ]
     },
     "execution_count": 2,
     "metadata": {},
     "output_type": "execute_result"
    }
   ],
   "source": [
    "# basic COMPAS scores CSV, with sex, race and just a few other useful predictors. not much to go on\n",
    "compas_scores_raw_filename = 'data/compas-scores-raw.csv'\n",
    "df_compas_raw = pd.read_csv(compas_scores_raw_filename)\n",
    "df_compas_raw.head()"
   ]
  },
  {
   "cell_type": "code",
   "execution_count": 3,
   "metadata": {},
   "outputs": [
    {
     "data": {
      "text/plain": [
       "Index(['Person_ID', 'AssessmentID', 'Case_ID', 'Agency_Text', 'LastName',\n",
       "       'FirstName', 'MiddleName', 'Sex_Code_Text', 'Ethnic_Code_Text',\n",
       "       'DateOfBirth', 'ScaleSet_ID', 'ScaleSet', 'AssessmentReason',\n",
       "       'Language', 'LegalStatus', 'CustodyStatus', 'MaritalStatus',\n",
       "       'Screening_Date', 'RecSupervisionLevel', 'RecSupervisionLevelText',\n",
       "       'Scale_ID', 'DisplayText', 'RawScore', 'DecileScore', 'ScoreText',\n",
       "       'AssessmentType', 'IsCompleted', 'IsDeleted'],\n",
       "      dtype='object')"
      ]
     },
     "execution_count": 3,
     "metadata": {},
     "output_type": "execute_result"
    }
   ],
   "source": [
    "df_compas_raw.columns"
   ]
  },
  {
   "cell_type": "code",
   "execution_count": 4,
   "metadata": {},
   "outputs": [
    {
     "data": {
      "text/html": [
       "<div>\n",
       "<style scoped>\n",
       "    .dataframe tbody tr th:only-of-type {\n",
       "        vertical-align: middle;\n",
       "    }\n",
       "\n",
       "    .dataframe tbody tr th {\n",
       "        vertical-align: top;\n",
       "    }\n",
       "\n",
       "    .dataframe thead th {\n",
       "        text-align: right;\n",
       "    }\n",
       "</style>\n",
       "<table border=\"1\" class=\"dataframe\">\n",
       "  <thead>\n",
       "    <tr style=\"text-align: right;\">\n",
       "      <th></th>\n",
       "      <th>id</th>\n",
       "      <th>name</th>\n",
       "      <th>first</th>\n",
       "      <th>last</th>\n",
       "      <th>compas_screening_date</th>\n",
       "      <th>sex</th>\n",
       "      <th>dob</th>\n",
       "      <th>age</th>\n",
       "      <th>age_cat</th>\n",
       "      <th>race</th>\n",
       "      <th>...</th>\n",
       "      <th>v_type_of_assessment</th>\n",
       "      <th>v_decile_score</th>\n",
       "      <th>v_score_text</th>\n",
       "      <th>v_screening_date</th>\n",
       "      <th>in_custody</th>\n",
       "      <th>out_custody</th>\n",
       "      <th>priors_count.1</th>\n",
       "      <th>start</th>\n",
       "      <th>end</th>\n",
       "      <th>event</th>\n",
       "    </tr>\n",
       "  </thead>\n",
       "  <tbody>\n",
       "    <tr>\n",
       "      <th>0</th>\n",
       "      <td>1.0</td>\n",
       "      <td>miguel hernandez</td>\n",
       "      <td>miguel</td>\n",
       "      <td>hernandez</td>\n",
       "      <td>14/08/2013</td>\n",
       "      <td>Male</td>\n",
       "      <td>18/04/1947</td>\n",
       "      <td>69</td>\n",
       "      <td>Greater than 45</td>\n",
       "      <td>Other</td>\n",
       "      <td>...</td>\n",
       "      <td>Risk of Violence</td>\n",
       "      <td>1</td>\n",
       "      <td>Low</td>\n",
       "      <td>14/08/2013</td>\n",
       "      <td>07/07/2014</td>\n",
       "      <td>14/07/2014</td>\n",
       "      <td>0</td>\n",
       "      <td>0</td>\n",
       "      <td>327</td>\n",
       "      <td>0</td>\n",
       "    </tr>\n",
       "    <tr>\n",
       "      <th>1</th>\n",
       "      <td>2.0</td>\n",
       "      <td>miguel hernandez</td>\n",
       "      <td>miguel</td>\n",
       "      <td>hernandez</td>\n",
       "      <td>14/08/2013</td>\n",
       "      <td>Male</td>\n",
       "      <td>18/04/1947</td>\n",
       "      <td>69</td>\n",
       "      <td>Greater than 45</td>\n",
       "      <td>Other</td>\n",
       "      <td>...</td>\n",
       "      <td>Risk of Violence</td>\n",
       "      <td>1</td>\n",
       "      <td>Low</td>\n",
       "      <td>14/08/2013</td>\n",
       "      <td>07/07/2014</td>\n",
       "      <td>14/07/2014</td>\n",
       "      <td>0</td>\n",
       "      <td>334</td>\n",
       "      <td>961</td>\n",
       "      <td>0</td>\n",
       "    </tr>\n",
       "    <tr>\n",
       "      <th>2</th>\n",
       "      <td>3.0</td>\n",
       "      <td>michael ryan</td>\n",
       "      <td>michael</td>\n",
       "      <td>ryan</td>\n",
       "      <td>31/12/2014</td>\n",
       "      <td>Male</td>\n",
       "      <td>06/02/1985</td>\n",
       "      <td>31</td>\n",
       "      <td>25 - 45</td>\n",
       "      <td>Caucasian</td>\n",
       "      <td>...</td>\n",
       "      <td>Risk of Violence</td>\n",
       "      <td>2</td>\n",
       "      <td>Low</td>\n",
       "      <td>31/12/2014</td>\n",
       "      <td>30/12/2014</td>\n",
       "      <td>03/01/2015</td>\n",
       "      <td>0</td>\n",
       "      <td>3</td>\n",
       "      <td>457</td>\n",
       "      <td>0</td>\n",
       "    </tr>\n",
       "    <tr>\n",
       "      <th>3</th>\n",
       "      <td>4.0</td>\n",
       "      <td>kevon dixon</td>\n",
       "      <td>kevon</td>\n",
       "      <td>dixon</td>\n",
       "      <td>27/01/2013</td>\n",
       "      <td>Male</td>\n",
       "      <td>22/01/1982</td>\n",
       "      <td>34</td>\n",
       "      <td>25 - 45</td>\n",
       "      <td>African-American</td>\n",
       "      <td>...</td>\n",
       "      <td>Risk of Violence</td>\n",
       "      <td>1</td>\n",
       "      <td>Low</td>\n",
       "      <td>27/01/2013</td>\n",
       "      <td>26/01/2013</td>\n",
       "      <td>05/02/2013</td>\n",
       "      <td>0</td>\n",
       "      <td>9</td>\n",
       "      <td>159</td>\n",
       "      <td>1</td>\n",
       "    </tr>\n",
       "    <tr>\n",
       "      <th>4</th>\n",
       "      <td>5.0</td>\n",
       "      <td>ed philo</td>\n",
       "      <td>ed</td>\n",
       "      <td>philo</td>\n",
       "      <td>14/04/2013</td>\n",
       "      <td>Male</td>\n",
       "      <td>14/05/1991</td>\n",
       "      <td>24</td>\n",
       "      <td>Less than 25</td>\n",
       "      <td>African-American</td>\n",
       "      <td>...</td>\n",
       "      <td>Risk of Violence</td>\n",
       "      <td>3</td>\n",
       "      <td>Low</td>\n",
       "      <td>14/04/2013</td>\n",
       "      <td>16/06/2013</td>\n",
       "      <td>16/06/2013</td>\n",
       "      <td>4</td>\n",
       "      <td>0</td>\n",
       "      <td>63</td>\n",
       "      <td>0</td>\n",
       "    </tr>\n",
       "  </tbody>\n",
       "</table>\n",
       "<p>5 rows × 52 columns</p>\n",
       "</div>"
      ],
      "text/plain": [
       "    id              name    first       last compas_screening_date   sex  \\\n",
       "0  1.0  miguel hernandez   miguel  hernandez            14/08/2013  Male   \n",
       "1  2.0  miguel hernandez   miguel  hernandez            14/08/2013  Male   \n",
       "2  3.0      michael ryan  michael       ryan            31/12/2014  Male   \n",
       "3  4.0       kevon dixon    kevon      dixon            27/01/2013  Male   \n",
       "4  5.0          ed philo       ed      philo            14/04/2013  Male   \n",
       "\n",
       "          dob  age          age_cat              race  ...  \\\n",
       "0  18/04/1947   69  Greater than 45             Other  ...   \n",
       "1  18/04/1947   69  Greater than 45             Other  ...   \n",
       "2  06/02/1985   31          25 - 45         Caucasian  ...   \n",
       "3  22/01/1982   34          25 - 45  African-American  ...   \n",
       "4  14/05/1991   24     Less than 25  African-American  ...   \n",
       "\n",
       "   v_type_of_assessment  v_decile_score  v_score_text  v_screening_date  \\\n",
       "0      Risk of Violence               1           Low        14/08/2013   \n",
       "1      Risk of Violence               1           Low        14/08/2013   \n",
       "2      Risk of Violence               2           Low        31/12/2014   \n",
       "3      Risk of Violence               1           Low        27/01/2013   \n",
       "4      Risk of Violence               3           Low        14/04/2013   \n",
       "\n",
       "   in_custody  out_custody priors_count.1 start  end event  \n",
       "0  07/07/2014   14/07/2014              0     0  327     0  \n",
       "1  07/07/2014   14/07/2014              0   334  961     0  \n",
       "2  30/12/2014   03/01/2015              0     3  457     0  \n",
       "3  26/01/2013   05/02/2013              0     9  159     1  \n",
       "4  16/06/2013   16/06/2013              4     0   63     0  \n",
       "\n",
       "[5 rows x 52 columns]"
      ]
     },
     "execution_count": 4,
     "metadata": {},
     "output_type": "execute_result"
    }
   ],
   "source": [
    "# subset of ProPublica data focused on 'violent' offenders\n",
    "# has much more information about cases than previous CSV file, we should use either this or the next one\n",
    "violent_scores_filename = \"data/cox-violent-parsed.csv\"\n",
    "df_compas_violent = pd.read_csv(violent_scores_filename)\n",
    "df_compas_violent.head()"
   ]
  },
  {
   "cell_type": "code",
   "execution_count": 5,
   "metadata": {},
   "outputs": [
    {
     "data": {
      "text/plain": [
       "Index(['id', 'name', 'first', 'last', 'compas_screening_date', 'sex', 'dob',\n",
       "       'age', 'age_cat', 'race', 'juv_fel_count', 'decile_score',\n",
       "       'juv_misd_count', 'juv_other_count', 'priors_count',\n",
       "       'days_b_screening_arrest', 'c_jail_in', 'c_jail_out', 'c_case_number',\n",
       "       'c_offense_date', 'c_arrest_date', 'c_days_from_compas',\n",
       "       'c_charge_degree', 'c_charge_desc', 'is_recid', 'r_case_number',\n",
       "       'r_charge_degree', 'r_days_from_arrest', 'r_offense_date',\n",
       "       'r_charge_desc', 'r_jail_in', 'r_jail_out', 'violent_recid',\n",
       "       'is_violent_recid', 'vr_case_number', 'vr_charge_degree',\n",
       "       'vr_offense_date', 'vr_charge_desc', 'type_of_assessment',\n",
       "       'decile_score.1', 'score_text', 'screening_date',\n",
       "       'v_type_of_assessment', 'v_decile_score', 'v_score_text',\n",
       "       'v_screening_date', 'in_custody', 'out_custody', 'priors_count.1',\n",
       "       'start', 'end', 'event'],\n",
       "      dtype='object')"
      ]
     },
     "execution_count": 5,
     "metadata": {},
     "output_type": "execute_result"
    }
   ],
   "source": [
    "df_compas_violent.columns"
   ]
  },
  {
   "cell_type": "code",
   "execution_count": 6,
   "metadata": {},
   "outputs": [
    {
     "data": {
      "text/plain": [
       "52"
      ]
     },
     "execution_count": 6,
     "metadata": {},
     "output_type": "execute_result"
    }
   ],
   "source": [
    "# get number of columns\n",
    "len(df_compas_violent.columns)"
   ]
  },
  {
   "cell_type": "code",
   "execution_count": 7,
   "metadata": {},
   "outputs": [
    {
     "data": {
      "text/html": [
       "<div>\n",
       "<style scoped>\n",
       "    .dataframe tbody tr th:only-of-type {\n",
       "        vertical-align: middle;\n",
       "    }\n",
       "\n",
       "    .dataframe tbody tr th {\n",
       "        vertical-align: top;\n",
       "    }\n",
       "\n",
       "    .dataframe thead th {\n",
       "        text-align: right;\n",
       "    }\n",
       "</style>\n",
       "<table border=\"1\" class=\"dataframe\">\n",
       "  <thead>\n",
       "    <tr style=\"text-align: right;\">\n",
       "      <th></th>\n",
       "      <th>id</th>\n",
       "      <th>name</th>\n",
       "      <th>first</th>\n",
       "      <th>last</th>\n",
       "      <th>sex</th>\n",
       "      <th>dob</th>\n",
       "      <th>age</th>\n",
       "      <th>age_cat</th>\n",
       "      <th>race</th>\n",
       "      <th>juv_fel_count</th>\n",
       "      <th>...</th>\n",
       "      <th>vr_charge_desc</th>\n",
       "      <th>type_of_assessment</th>\n",
       "      <th>decile_score.1</th>\n",
       "      <th>score_text</th>\n",
       "      <th>screening_date</th>\n",
       "      <th>v_type_of_assessment</th>\n",
       "      <th>v_decile_score</th>\n",
       "      <th>v_score_text</th>\n",
       "      <th>priors_count.1</th>\n",
       "      <th>event</th>\n",
       "    </tr>\n",
       "  </thead>\n",
       "  <tbody>\n",
       "    <tr>\n",
       "      <th>0</th>\n",
       "      <td>1.0</td>\n",
       "      <td>miguel hernandez</td>\n",
       "      <td>miguel</td>\n",
       "      <td>hernandez</td>\n",
       "      <td>Male</td>\n",
       "      <td>18/04/1947</td>\n",
       "      <td>69</td>\n",
       "      <td>Greater than 45</td>\n",
       "      <td>Other</td>\n",
       "      <td>0</td>\n",
       "      <td>...</td>\n",
       "      <td>NaN</td>\n",
       "      <td>Risk of Recidivism</td>\n",
       "      <td>1</td>\n",
       "      <td>Low</td>\n",
       "      <td>14/08/2013</td>\n",
       "      <td>Risk of Violence</td>\n",
       "      <td>1</td>\n",
       "      <td>Low</td>\n",
       "      <td>0</td>\n",
       "      <td>0</td>\n",
       "    </tr>\n",
       "    <tr>\n",
       "      <th>1</th>\n",
       "      <td>2.0</td>\n",
       "      <td>miguel hernandez</td>\n",
       "      <td>miguel</td>\n",
       "      <td>hernandez</td>\n",
       "      <td>Male</td>\n",
       "      <td>18/04/1947</td>\n",
       "      <td>69</td>\n",
       "      <td>Greater than 45</td>\n",
       "      <td>Other</td>\n",
       "      <td>0</td>\n",
       "      <td>...</td>\n",
       "      <td>NaN</td>\n",
       "      <td>Risk of Recidivism</td>\n",
       "      <td>1</td>\n",
       "      <td>Low</td>\n",
       "      <td>14/08/2013</td>\n",
       "      <td>Risk of Violence</td>\n",
       "      <td>1</td>\n",
       "      <td>Low</td>\n",
       "      <td>0</td>\n",
       "      <td>0</td>\n",
       "    </tr>\n",
       "    <tr>\n",
       "      <th>2</th>\n",
       "      <td>3.0</td>\n",
       "      <td>michael ryan</td>\n",
       "      <td>michael</td>\n",
       "      <td>ryan</td>\n",
       "      <td>Male</td>\n",
       "      <td>06/02/1985</td>\n",
       "      <td>31</td>\n",
       "      <td>25 - 45</td>\n",
       "      <td>Caucasian</td>\n",
       "      <td>0</td>\n",
       "      <td>...</td>\n",
       "      <td>NaN</td>\n",
       "      <td>Risk of Recidivism</td>\n",
       "      <td>5</td>\n",
       "      <td>Medium</td>\n",
       "      <td>31/12/2014</td>\n",
       "      <td>Risk of Violence</td>\n",
       "      <td>2</td>\n",
       "      <td>Low</td>\n",
       "      <td>0</td>\n",
       "      <td>0</td>\n",
       "    </tr>\n",
       "    <tr>\n",
       "      <th>3</th>\n",
       "      <td>4.0</td>\n",
       "      <td>kevon dixon</td>\n",
       "      <td>kevon</td>\n",
       "      <td>dixon</td>\n",
       "      <td>Male</td>\n",
       "      <td>22/01/1982</td>\n",
       "      <td>34</td>\n",
       "      <td>25 - 45</td>\n",
       "      <td>African-American</td>\n",
       "      <td>0</td>\n",
       "      <td>...</td>\n",
       "      <td>Felony Battery (Dom Strang)</td>\n",
       "      <td>Risk of Recidivism</td>\n",
       "      <td>3</td>\n",
       "      <td>Low</td>\n",
       "      <td>27/01/2013</td>\n",
       "      <td>Risk of Violence</td>\n",
       "      <td>1</td>\n",
       "      <td>Low</td>\n",
       "      <td>0</td>\n",
       "      <td>1</td>\n",
       "    </tr>\n",
       "    <tr>\n",
       "      <th>4</th>\n",
       "      <td>5.0</td>\n",
       "      <td>ed philo</td>\n",
       "      <td>ed</td>\n",
       "      <td>philo</td>\n",
       "      <td>Male</td>\n",
       "      <td>14/05/1991</td>\n",
       "      <td>24</td>\n",
       "      <td>Less than 25</td>\n",
       "      <td>African-American</td>\n",
       "      <td>0</td>\n",
       "      <td>...</td>\n",
       "      <td>NaN</td>\n",
       "      <td>Risk of Recidivism</td>\n",
       "      <td>4</td>\n",
       "      <td>Low</td>\n",
       "      <td>14/04/2013</td>\n",
       "      <td>Risk of Violence</td>\n",
       "      <td>3</td>\n",
       "      <td>Low</td>\n",
       "      <td>4</td>\n",
       "      <td>0</td>\n",
       "    </tr>\n",
       "  </tbody>\n",
       "</table>\n",
       "<p>5 rows × 40 columns</p>\n",
       "</div>"
      ],
      "text/plain": [
       "    id              name    first       last   sex         dob  age  \\\n",
       "0  1.0  miguel hernandez   miguel  hernandez  Male  18/04/1947   69   \n",
       "1  2.0  miguel hernandez   miguel  hernandez  Male  18/04/1947   69   \n",
       "2  3.0      michael ryan  michael       ryan  Male  06/02/1985   31   \n",
       "3  4.0       kevon dixon    kevon      dixon  Male  22/01/1982   34   \n",
       "4  5.0          ed philo       ed      philo  Male  14/05/1991   24   \n",
       "\n",
       "           age_cat              race  juv_fel_count  ...  \\\n",
       "0  Greater than 45             Other              0  ...   \n",
       "1  Greater than 45             Other              0  ...   \n",
       "2          25 - 45         Caucasian              0  ...   \n",
       "3          25 - 45  African-American              0  ...   \n",
       "4     Less than 25  African-American              0  ...   \n",
       "\n",
       "                vr_charge_desc  type_of_assessment  decile_score.1  \\\n",
       "0                          NaN  Risk of Recidivism               1   \n",
       "1                          NaN  Risk of Recidivism               1   \n",
       "2                          NaN  Risk of Recidivism               5   \n",
       "3  Felony Battery (Dom Strang)  Risk of Recidivism               3   \n",
       "4                          NaN  Risk of Recidivism               4   \n",
       "\n",
       "   score_text  screening_date v_type_of_assessment v_decile_score  \\\n",
       "0         Low      14/08/2013     Risk of Violence              1   \n",
       "1         Low      14/08/2013     Risk of Violence              1   \n",
       "2      Medium      31/12/2014     Risk of Violence              2   \n",
       "3         Low      27/01/2013     Risk of Violence              1   \n",
       "4         Low      14/04/2013     Risk of Violence              3   \n",
       "\n",
       "   v_score_text priors_count.1 event  \n",
       "0           Low              0     0  \n",
       "1           Low              0     0  \n",
       "2           Low              0     0  \n",
       "3           Low              0     1  \n",
       "4           Low              4     0  \n",
       "\n",
       "[5 rows x 40 columns]"
      ]
     },
     "execution_count": 7,
     "metadata": {},
     "output_type": "execute_result"
    }
   ],
   "source": [
    "# this is a filtered down version of the previous CSV, with 12 fewer columns \n",
    "violent_scores_filt_filename = \"data/cox-violent-parsed_filt.csv\"\n",
    "df_compas_violent_filt = pd.read_csv(violent_scores_filt_filename)\n",
    "df_compas_violent_filt.head()"
   ]
  },
  {
   "cell_type": "code",
   "execution_count": 8,
   "metadata": {},
   "outputs": [
    {
     "data": {
      "text/plain": [
       "Index(['id', 'name', 'first', 'last', 'sex', 'dob', 'age', 'age_cat', 'race',\n",
       "       'juv_fel_count', 'decile_score', 'juv_misd_count', 'juv_other_count',\n",
       "       'priors_count', 'days_b_screening_arrest', 'c_jail_in', 'c_jail_out',\n",
       "       'c_days_from_compas', 'c_charge_degree', 'c_charge_desc', 'is_recid',\n",
       "       'r_charge_degree', 'r_days_from_arrest', 'r_offense_date',\n",
       "       'r_charge_desc', 'r_jail_in', 'violent_recid', 'is_violent_recid',\n",
       "       'vr_charge_degree', 'vr_offense_date', 'vr_charge_desc',\n",
       "       'type_of_assessment', 'decile_score.1', 'score_text', 'screening_date',\n",
       "       'v_type_of_assessment', 'v_decile_score', 'v_score_text',\n",
       "       'priors_count.1', 'event'],\n",
       "      dtype='object')"
      ]
     },
     "execution_count": 8,
     "metadata": {},
     "output_type": "execute_result"
    }
   ],
   "source": [
    "df_compas_violent_filt.columns"
   ]
  },
  {
   "cell_type": "code",
   "execution_count": 9,
   "metadata": {},
   "outputs": [
    {
     "data": {
      "text/plain": [
       "40"
      ]
     },
     "execution_count": 9,
     "metadata": {},
     "output_type": "execute_result"
    }
   ],
   "source": [
    "# get number of columns\n",
    "len(df_compas_violent_filt.columns)"
   ]
  },
  {
   "cell_type": "code",
   "execution_count": 10,
   "metadata": {},
   "outputs": [
    {
     "data": {
      "text/plain": [
       "{'c_arrest_date',\n",
       " 'c_case_number',\n",
       " 'c_offense_date',\n",
       " 'compas_screening_date',\n",
       " 'end',\n",
       " 'in_custody',\n",
       " 'out_custody',\n",
       " 'r_case_number',\n",
       " 'r_jail_out',\n",
       " 'start',\n",
       " 'v_screening_date',\n",
       " 'vr_case_number'}"
      ]
     },
     "execution_count": 10,
     "metadata": {},
     "output_type": "execute_result"
    }
   ],
   "source": [
    "set(df_compas_violent.columns) - set(df_compas_violent_filt.columns)"
   ]
  },
  {
   "cell_type": "markdown",
   "metadata": {},
   "source": [
    "Since the `data/cox-violent-parsed_filt.csv` data has the most relevant variables, and has fewer unnecessary rows than `data/cox-violent-parsed_filt.csv`, we will use the former!"
   ]
  },
  {
   "cell_type": "markdown",
   "metadata": {
    "pycharm": {
     "name": "#%% md\n"
    }
   },
   "source": [
    "### Cleaning the recidivism data"
   ]
  },
  {
   "cell_type": "markdown",
   "metadata": {
    "pycharm": {
     "name": "#%% md\n"
    }
   },
   "source": [
    "This is how ProPublica cleaned their data, and removed rows with missing data (copied from their notebook):\n",
    "\n",
    "- If the charge date of a defendants Compas scored crime was not within 30 days from when the person was arrested, we assume that because of data quality reasons, that we do not have the right offense.\n",
    "- We coded the recidivist flag -- is_recid -- to be -1 if we could not find a compas case at all.\n",
    "- In a similar vein, ordinary traffic offenses -- those with a c_charge_degree of 'O' -- will not result in Jail time are removed (only two of them).\n",
    "- We filtered the underlying data from Broward county to include only those rows representing people who had either recidivated in two years, or had at least two years outside of a correctional facility. "
   ]
  },
  {
   "cell_type": "markdown",
   "metadata": {
    "pycharm": {
     "name": "#%% md\n"
    }
   },
   "source": [
    "They have a notebook with R code in it for this here: https://github.com/propublica/compas-analysis/blob/master/Compas%20Analysis.ipynb "
   ]
  },
  {
   "cell_type": "code",
   "execution_count": 11,
   "metadata": {},
   "outputs": [],
   "source": [
    "# this is a filtered down version of the \"cox-violent-parsed.csv\", with 12 fewer columns \n",
    "violent_scores_filt_filename = \"data/cox-violent-parsed_filt.csv\"\n",
    "df_compas_violent_filt = pd.read_csv(violent_scores_filt_filename)"
   ]
  },
  {
   "cell_type": "code",
   "execution_count": 12,
   "metadata": {},
   "outputs": [
    {
     "data": {
      "text/plain": [
       "Index(['id', 'name', 'first', 'last', 'sex', 'dob', 'age', 'age_cat', 'race',\n",
       "       'juv_fel_count', 'decile_score', 'juv_misd_count', 'juv_other_count',\n",
       "       'priors_count', 'days_b_screening_arrest', 'c_jail_in', 'c_jail_out',\n",
       "       'c_days_from_compas', 'c_charge_degree', 'c_charge_desc', 'is_recid',\n",
       "       'r_charge_degree', 'r_days_from_arrest', 'r_offense_date',\n",
       "       'r_charge_desc', 'r_jail_in', 'violent_recid', 'is_violent_recid',\n",
       "       'vr_charge_degree', 'vr_offense_date', 'vr_charge_desc',\n",
       "       'type_of_assessment', 'decile_score.1', 'score_text', 'screening_date',\n",
       "       'v_type_of_assessment', 'v_decile_score', 'v_score_text',\n",
       "       'priors_count.1', 'event'],\n",
       "      dtype='object')"
      ]
     },
     "execution_count": 12,
     "metadata": {},
     "output_type": "execute_result"
    }
   ],
   "source": [
    "# remove any unnecessary columns\n",
    "df_compas_violent_filt.columns"
   ]
  },
  {
   "cell_type": "code",
   "execution_count": 13,
   "metadata": {},
   "outputs": [],
   "source": [
    "## NOTE: these are all of the ultimately desirable columns. I'm keeping more in here so that students can pick the most important\n",
    "#selected_cols = [\"sex\", \"age_cat\", \"race\", \"priors_count\", \"c_charge_degree\", \"is_recid\"] # and maybe also `r_charge_degree`? tbd\n",
    "## TODO: figure out how much the students should actually be considering columns\n",
    "\n",
    "# look at data to determine which columns are not important, and drop them!\n",
    "cols_to_drop = [\"decile_score.1\", \"priors_count.1\", \"event\", \"juv_fel_count\", \"juv_misd_count\", \"juv_other_count\"]\n",
    "df_compas_violent_filt = df_compas_violent_filt.drop(columns=cols_to_drop)"
   ]
  },
  {
   "cell_type": "code",
   "execution_count": 14,
   "metadata": {},
   "outputs": [
    {
     "data": {
      "text/plain": [
       "Index(['id', 'name', 'first', 'last', 'sex', 'dob', 'age', 'age_cat', 'race',\n",
       "       'decile_score', 'priors_count', 'days_b_screening_arrest', 'c_jail_in',\n",
       "       'c_jail_out', 'c_days_from_compas', 'c_charge_degree', 'c_charge_desc',\n",
       "       'is_recid', 'r_charge_degree', 'r_days_from_arrest', 'r_offense_date',\n",
       "       'r_charge_desc', 'r_jail_in', 'violent_recid', 'is_violent_recid',\n",
       "       'vr_charge_degree', 'vr_offense_date', 'vr_charge_desc',\n",
       "       'type_of_assessment', 'score_text', 'screening_date',\n",
       "       'v_type_of_assessment', 'v_decile_score', 'v_score_text'],\n",
       "      dtype='object')"
      ]
     },
     "execution_count": 14,
     "metadata": {},
     "output_type": "execute_result"
    }
   ],
   "source": [
    "# check to see which columns remain\n",
    "df_compas_violent_filt.columns"
   ]
  },
  {
   "cell_type": "code",
   "execution_count": 15,
   "metadata": {},
   "outputs": [
    {
     "data": {
      "text/plain": [
       "2       -1\n",
       "63      -1\n",
       "82      -1\n",
       "111     -1\n",
       "192     -1\n",
       "217     -1\n",
       "226     -1\n",
       "250     -1\n",
       "267     -1\n",
       "364     -1\n",
       "442     -1\n",
       "496     -1\n",
       "497     -1\n",
       "536     -1\n",
       "559     -1\n",
       "599     -1\n",
       "600     -1\n",
       "604     -1\n",
       "607     -1\n",
       "718     -1\n",
       "771     -1\n",
       "779     -1\n",
       "799     -1\n",
       "835     -1\n",
       "872     -1\n",
       "873     -1\n",
       "874     -1\n",
       "875     -1\n",
       "876     -1\n",
       "877     -1\n",
       "        ..\n",
       "17843   -1\n",
       "17844   -1\n",
       "17856   -1\n",
       "17863   -1\n",
       "17879   -1\n",
       "17894   -1\n",
       "17899   -1\n",
       "17900   -1\n",
       "17901   -1\n",
       "17902   -1\n",
       "17958   -1\n",
       "17973   -1\n",
       "17984   -1\n",
       "18016   -1\n",
       "18017   -1\n",
       "18018   -1\n",
       "18019   -1\n",
       "18020   -1\n",
       "18027   -1\n",
       "18055   -1\n",
       "18082   -1\n",
       "18113   -1\n",
       "18133   -1\n",
       "18170   -1\n",
       "18173   -1\n",
       "18174   -1\n",
       "18193   -1\n",
       "18199   -1\n",
       "18235   -1\n",
       "18265   -1\n",
       "Name: is_recid, Length: 820, dtype: int64"
      ]
     },
     "execution_count": 15,
     "metadata": {},
     "output_type": "execute_result"
    }
   ],
   "source": [
    "# a -1 in the `is_recid` column means recidivism could not be determined. Remove any rows with this value\n",
    "indices_to_delete = df_compas_violent_filt[ df_compas_violent_filt['is_recid'] == -1 ].index\n",
    "# double check that the indices pull out do indeed correspond to when 'is_recid' is -1\n",
    "df_compas_violent_filt['is_recid'].iloc[indices_to_delete]"
   ]
  },
  {
   "cell_type": "code",
   "execution_count": 16,
   "metadata": {},
   "outputs": [],
   "source": [
    "# now, delete all of the rows where `is_recid` was -1\n",
    "df_compas_violent_filt = df_compas_violent_filt.drop(indices_to_delete)\n"
   ]
  },
  {
   "cell_type": "code",
   "execution_count": 17,
   "metadata": {},
   "outputs": [
    {
     "data": {
      "text/plain": [
       "Int64Index([], dtype='int64')"
      ]
     },
     "execution_count": 17,
     "metadata": {},
     "output_type": "execute_result"
    }
   ],
   "source": [
    "# check to make sure there are no more rows where `is_recid` is -1\n",
    "df_compas_violent_filt[df_compas_violent_filt['is_recid'] == -1].index"
   ]
  },
  {
   "cell_type": "markdown",
   "metadata": {},
   "source": [
    "Great! Now that we've removed rows that had unclear recidivism data, we can move on."
   ]
  },
  {
   "cell_type": "markdown",
   "metadata": {},
   "source": [
    "We just need to regroup our `priors_count` variable to make it categorical, so we can use it with other categorical featuers (like `race` and `sex`)"
   ]
  },
  {
   "cell_type": "code",
   "execution_count": 18,
   "metadata": {},
   "outputs": [
    {
     "data": {
      "text/plain": [
       "<AxesSubplot:>"
      ]
     },
     "execution_count": 18,
     "metadata": {},
     "output_type": "execute_result"
    },
    {
     "data": {
      "image/png": "[encoded data removed]",
      "text/plain": [
       "<Figure size 432x288 with 1 Axes>"
      ]
     },
     "metadata": {
      "needs_background": "light"
     },
     "output_type": "display_data"
    }
   ],
   "source": [
    "# now, we need to bin the `priors_count` variable to make it categorical\n",
    "# with a Box and Whisker plot, we can assess how the data are distributed\n",
    "plot, plt_stats = df_compas_violent_filt.boxplot(\"priors_count\", grid=True, return_type=\"both\")\n",
    "plot"
   ]
  },
  {
   "cell_type": "markdown",
   "metadata": {},
   "source": [
    "Clearly, majority of cases have fewer than 10 prior offenses, but there are a lot of outliers!"
   ]
  },
  {
   "cell_type": "code",
   "execution_count": 19,
   "metadata": {},
   "outputs": [],
   "source": [
    "outliers = [flier.get_ydata() for flier in plt_stats[\"fliers\"]]\n",
    "boxes = [box.get_ydata() for box in plt_stats[\"boxes\"]]\n",
    "medians = [median.get_ydata() for median in plt_stats[\"medians\"]]\n",
    "whiskers = [whiskers.get_ydata() for whiskers in plt_stats[\"whiskers\"]]"
   ]
  },
  {
   "cell_type": "code",
   "execution_count": 20,
   "metadata": {},
   "outputs": [
    {
     "data": {
      "text/plain": [
       "(array([445., 303., 184., 109.,  70.,  44.,  11.,   9.,   7.,   2.]),\n",
       " array([14. , 16.9, 19.8, 22.7, 25.6, 28.5, 31.4, 34.3, 37.2, 40.1, 43. ]),\n",
       " <BarContainer object of 10 artists>)"
      ]
     },
     "execution_count": 20,
     "metadata": {},
     "output_type": "execute_result"
    },
    {
     "data": {
      "image/png": "[encoded data removed]",
      "text/plain": [
       "<Figure size 432x288 with 1 Axes>"
      ]
     },
     "metadata": {
      "needs_background": "light"
     },
     "output_type": "display_data"
    }
   ],
   "source": [
    "# plot s histogram of our outliers to see where most of them fall\n",
    "np.set_printoptions(threshold=np.inf)\n",
    "matplotlib.pyplot.hist(outliers)"
   ]
  },
  {
   "cell_type": "markdown",
   "metadata": {},
   "source": [
    "OK, so most of our outliers are in the mid teens - low twenties"
   ]
  },
  {
   "cell_type": "code",
   "execution_count": 21,
   "metadata": {},
   "outputs": [
    {
     "data": {
      "text/plain": [
       "[array([1., 0.]), array([ 6., 13.])]"
      ]
     },
     "execution_count": 21,
     "metadata": {},
     "output_type": "execute_result"
    }
   ],
   "source": [
    "whiskers # whiskers are from values 0-1, 6-13, meaning outliers start at 14 prior counts"
   ]
  },
  {
   "cell_type": "code",
   "execution_count": 22,
   "metadata": {},
   "outputs": [
    {
     "data": {
      "text/plain": [
       "0.01     0.0\n",
       "0.25     1.0\n",
       "0.50     2.0\n",
       "0.75     6.0\n",
       "0.99    24.0\n",
       "Name: priors_count, dtype: float64"
      ]
     },
     "execution_count": 22,
     "metadata": {},
     "output_type": "execute_result"
    }
   ],
   "source": [
    "# see exactly what the quantile values are in our Box plot to understand exactly what the cutoffs are\n",
    "df_compas_violent_filt[\"priors_count\"].quantile([0.01, 0.25, 0.5, 0.75, 0.99])"
   ]
  },
  {
   "cell_type": "markdown",
   "metadata": {},
   "source": [
    "It looks like `priors_count` should be grouped by 0, 1, 2-5, 6-12, 13+. Let's double check the distribution of prior counts by looking at the occurences of each value"
   ]
  },
  {
   "cell_type": "code",
   "execution_count": 23,
   "metadata": {},
   "outputs": [
    {
     "data": {
      "text/plain": [
       "0     4355\n",
       "1     3212\n",
       "2     2079\n",
       "3     1446\n",
       "4     1014\n",
       "5      897\n",
       "6      654\n",
       "7      607\n",
       "8      509\n",
       "9      456\n",
       "10     329\n",
       "11     275\n",
       "13     246\n",
       "12     233\n",
       "14     173\n",
       "15     139\n",
       "16     133\n",
       "17     105\n",
       "18     103\n",
       "19      95\n",
       "20      71\n",
       "21      59\n",
       "22      54\n",
       "23      51\n",
       "28      30\n",
       "24      30\n",
       "25      28\n",
       "26      24\n",
       "29      20\n",
       "27      16\n",
       "31      14\n",
       "33      11\n",
       "30      10\n",
       "38       6\n",
       "36       5\n",
       "35       3\n",
       "43       2\n",
       "39       1\n",
       "37       1\n",
       "Name: priors_count, dtype: int64"
      ]
     },
     "execution_count": 23,
     "metadata": {},
     "output_type": "execute_result"
    }
   ],
   "source": [
    "# see how many occurences of each prior count there are \n",
    "df_compas_violent_filt[\"priors_count\"].value_counts()"
   ]
  },
  {
   "cell_type": "markdown",
   "metadata": {},
   "source": [
    "By adding up the number of values we'd lump into each category(e.g. 0, 1, 2-5, 6-12, 13+), we see that they're fairly well distributed. Great! Now we need to create a new `priors_count_cat` column in our dataframe where we regroup the `priors_count` variable into bins \"0\", \"1\", \"2-5\", \"6-12\", and \"13+\""
   ]
  },
  {
   "cell_type": "code",
   "execution_count": 24,
   "metadata": {},
   "outputs": [],
   "source": [
    "def create_priors_cat(row):\n",
    "    if row == 0 :\n",
    "        return \"0\"\n",
    "    if row == 1 :\n",
    "        return \"1\"\n",
    "    if row >= 2 and row < 6:\n",
    "        return \"2-5\"\n",
    "    if row >= 6 and row < 13:\n",
    "        return \"6 - 12\"\n",
    "    if row >= 13:\n",
    "        return \"13+\""
   ]
  },
  {
   "cell_type": "code",
   "execution_count": 26,
   "metadata": {},
   "outputs": [],
   "source": [
    "priors_cat = df_compas_violent_filt.apply(lambda row: create_priors_cat(row[\"priors_count\"]), axis=1)"
   ]
  },
  {
   "cell_type": "code",
   "execution_count": 27,
   "metadata": {},
   "outputs": [
    {
     "data": {
      "text/plain": [
       "2-5       5436\n",
       "0         4355\n",
       "1         3212\n",
       "6 - 12    3063\n",
       "13+       1430\n",
       "dtype: int64"
      ]
     },
     "execution_count": 27,
     "metadata": {},
     "output_type": "execute_result"
    }
   ],
   "source": [
    "# check out the distribution of prior counts across our new categories! do they seem balanced to you?\n",
    "priors_cat.value_counts()"
   ]
  },
  {
   "cell_type": "code",
   "execution_count": 28,
   "metadata": {},
   "outputs": [
    {
     "data": {
      "text/html": [
       "<div>\n",
       "<style scoped>\n",
       "    .dataframe tbody tr th:only-of-type {\n",
       "        vertical-align: middle;\n",
       "    }\n",
       "\n",
       "    .dataframe tbody tr th {\n",
       "        vertical-align: top;\n",
       "    }\n",
       "\n",
       "    .dataframe thead th {\n",
       "        text-align: right;\n",
       "    }\n",
       "</style>\n",
       "<table border=\"1\" class=\"dataframe\">\n",
       "  <thead>\n",
       "    <tr style=\"text-align: right;\">\n",
       "      <th></th>\n",
       "      <th>id</th>\n",
       "      <th>name</th>\n",
       "      <th>first</th>\n",
       "      <th>last</th>\n",
       "      <th>sex</th>\n",
       "      <th>dob</th>\n",
       "      <th>age</th>\n",
       "      <th>age_cat</th>\n",
       "      <th>race</th>\n",
       "      <th>decile_score</th>\n",
       "      <th>...</th>\n",
       "      <th>vr_charge_degree</th>\n",
       "      <th>vr_offense_date</th>\n",
       "      <th>vr_charge_desc</th>\n",
       "      <th>type_of_assessment</th>\n",
       "      <th>score_text</th>\n",
       "      <th>screening_date</th>\n",
       "      <th>v_type_of_assessment</th>\n",
       "      <th>v_decile_score</th>\n",
       "      <th>v_score_text</th>\n",
       "      <th>priors_count_cat</th>\n",
       "    </tr>\n",
       "  </thead>\n",
       "  <tbody>\n",
       "    <tr>\n",
       "      <th>0</th>\n",
       "      <td>1.0</td>\n",
       "      <td>miguel hernandez</td>\n",
       "      <td>miguel</td>\n",
       "      <td>hernandez</td>\n",
       "      <td>Male</td>\n",
       "      <td>18/04/1947</td>\n",
       "      <td>69</td>\n",
       "      <td>Greater than 45</td>\n",
       "      <td>Other</td>\n",
       "      <td>1</td>\n",
       "      <td>...</td>\n",
       "      <td>NaN</td>\n",
       "      <td>NaN</td>\n",
       "      <td>NaN</td>\n",
       "      <td>Risk of Recidivism</td>\n",
       "      <td>Low</td>\n",
       "      <td>14/08/2013</td>\n",
       "      <td>Risk of Violence</td>\n",
       "      <td>1</td>\n",
       "      <td>Low</td>\n",
       "      <td>0</td>\n",
       "    </tr>\n",
       "    <tr>\n",
       "      <th>1</th>\n",
       "      <td>2.0</td>\n",
       "      <td>miguel hernandez</td>\n",
       "      <td>miguel</td>\n",
       "      <td>hernandez</td>\n",
       "      <td>Male</td>\n",
       "      <td>18/04/1947</td>\n",
       "      <td>69</td>\n",
       "      <td>Greater than 45</td>\n",
       "      <td>Other</td>\n",
       "      <td>1</td>\n",
       "      <td>...</td>\n",
       "      <td>NaN</td>\n",
       "      <td>NaN</td>\n",
       "      <td>NaN</td>\n",
       "      <td>Risk of Recidivism</td>\n",
       "      <td>Low</td>\n",
       "      <td>14/08/2013</td>\n",
       "      <td>Risk of Violence</td>\n",
       "      <td>1</td>\n",
       "      <td>Low</td>\n",
       "      <td>0</td>\n",
       "    </tr>\n",
       "    <tr>\n",
       "      <th>3</th>\n",
       "      <td>4.0</td>\n",
       "      <td>kevon dixon</td>\n",
       "      <td>kevon</td>\n",
       "      <td>dixon</td>\n",
       "      <td>Male</td>\n",
       "      <td>22/01/1982</td>\n",
       "      <td>34</td>\n",
       "      <td>25 - 45</td>\n",
       "      <td>African-American</td>\n",
       "      <td>3</td>\n",
       "      <td>...</td>\n",
       "      <td>(F3)</td>\n",
       "      <td>05/07/2013</td>\n",
       "      <td>Felony Battery (Dom Strang)</td>\n",
       "      <td>Risk of Recidivism</td>\n",
       "      <td>Low</td>\n",
       "      <td>27/01/2013</td>\n",
       "      <td>Risk of Violence</td>\n",
       "      <td>1</td>\n",
       "      <td>Low</td>\n",
       "      <td>0</td>\n",
       "    </tr>\n",
       "    <tr>\n",
       "      <th>4</th>\n",
       "      <td>5.0</td>\n",
       "      <td>ed philo</td>\n",
       "      <td>ed</td>\n",
       "      <td>philo</td>\n",
       "      <td>Male</td>\n",
       "      <td>14/05/1991</td>\n",
       "      <td>24</td>\n",
       "      <td>Less than 25</td>\n",
       "      <td>African-American</td>\n",
       "      <td>4</td>\n",
       "      <td>...</td>\n",
       "      <td>NaN</td>\n",
       "      <td>NaN</td>\n",
       "      <td>NaN</td>\n",
       "      <td>Risk of Recidivism</td>\n",
       "      <td>Low</td>\n",
       "      <td>14/04/2013</td>\n",
       "      <td>Risk of Violence</td>\n",
       "      <td>3</td>\n",
       "      <td>Low</td>\n",
       "      <td>2-5</td>\n",
       "    </tr>\n",
       "    <tr>\n",
       "      <th>5</th>\n",
       "      <td>6.0</td>\n",
       "      <td>ed philo</td>\n",
       "      <td>ed</td>\n",
       "      <td>philo</td>\n",
       "      <td>Male</td>\n",
       "      <td>14/05/1991</td>\n",
       "      <td>24</td>\n",
       "      <td>Less than 25</td>\n",
       "      <td>African-American</td>\n",
       "      <td>4</td>\n",
       "      <td>...</td>\n",
       "      <td>NaN</td>\n",
       "      <td>NaN</td>\n",
       "      <td>NaN</td>\n",
       "      <td>Risk of Recidivism</td>\n",
       "      <td>Low</td>\n",
       "      <td>14/04/2013</td>\n",
       "      <td>Risk of Violence</td>\n",
       "      <td>3</td>\n",
       "      <td>Low</td>\n",
       "      <td>2-5</td>\n",
       "    </tr>\n",
       "  </tbody>\n",
       "</table>\n",
       "<p>5 rows × 35 columns</p>\n",
       "</div>"
      ],
      "text/plain": [
       "    id              name   first       last   sex         dob  age  \\\n",
       "0  1.0  miguel hernandez  miguel  hernandez  Male  18/04/1947   69   \n",
       "1  2.0  miguel hernandez  miguel  hernandez  Male  18/04/1947   69   \n",
       "3  4.0       kevon dixon   kevon      dixon  Male  22/01/1982   34   \n",
       "4  5.0          ed philo      ed      philo  Male  14/05/1991   24   \n",
       "5  6.0          ed philo      ed      philo  Male  14/05/1991   24   \n",
       "\n",
       "           age_cat              race  decile_score  ...  vr_charge_degree  \\\n",
       "0  Greater than 45             Other             1  ...               NaN   \n",
       "1  Greater than 45             Other             1  ...               NaN   \n",
       "3          25 - 45  African-American             3  ...              (F3)   \n",
       "4     Less than 25  African-American             4  ...               NaN   \n",
       "5     Less than 25  African-American             4  ...               NaN   \n",
       "\n",
       "   vr_offense_date               vr_charge_desc  type_of_assessment  \\\n",
       "0              NaN                          NaN  Risk of Recidivism   \n",
       "1              NaN                          NaN  Risk of Recidivism   \n",
       "3       05/07/2013  Felony Battery (Dom Strang)  Risk of Recidivism   \n",
       "4              NaN                          NaN  Risk of Recidivism   \n",
       "5              NaN                          NaN  Risk of Recidivism   \n",
       "\n",
       "   score_text screening_date v_type_of_assessment  v_decile_score  \\\n",
       "0         Low     14/08/2013     Risk of Violence               1   \n",
       "1         Low     14/08/2013     Risk of Violence               1   \n",
       "3         Low     27/01/2013     Risk of Violence               1   \n",
       "4         Low     14/04/2013     Risk of Violence               3   \n",
       "5         Low     14/04/2013     Risk of Violence               3   \n",
       "\n",
       "  v_score_text  priors_count_cat  \n",
       "0          Low                 0  \n",
       "1          Low                 0  \n",
       "3          Low                 0  \n",
       "4          Low               2-5  \n",
       "5          Low               2-5  \n",
       "\n",
       "[5 rows x 35 columns]"
      ]
     },
     "execution_count": 28,
     "metadata": {},
     "output_type": "execute_result"
    }
   ],
   "source": [
    "# now that we're happy with the binning, let's add this series as a new column in our dataframe!\n",
    "df_compas_violent_filt[\"priors_count_cat\"] = priors_cat\n",
    "df_compas_violent_filt.head()"
   ]
  },
  {
   "cell_type": "markdown",
   "metadata": {},
   "source": [
    "Great, now that our data are cleaned of unclear recidivist cases, we have removed unnecessary columns, and we've redefined our `prior counts` data so we can include it as a categorical feature, now we can move on."
   ]
  },
  {
   "cell_type": "markdown",
   "metadata": {},
   "source": [
    "### Let's select the features together?"
   ]
  },
  {
   "cell_type": "code",
   "execution_count": 29,
   "metadata": {
    "pycharm": {
     "name": "#%%\n"
    }
   },
   "outputs": [],
   "source": [
    "target = 'score_text'\n",
    "protected = 'race'\n",
    "\n",
    "params = {col : False for col in set(df_compas_violent_filt.columns)- set([target, protected])}"
   ]
  },
  {
   "cell_type": "code",
   "execution_count": 30,
   "metadata": {
    "pycharm": {
     "name": "#%%\n"
    }
   },
   "outputs": [
    {
     "data": {
      "application/vnd.jupyter.widget-view+json": {
       "model_id": "3b698d18484945d29303d1825479a0aa",
       "version_major": 2,
       "version_minor": 0
      },
      "text/plain": [
       "interactive(children=(Checkbox(value=False, description='first'), Checkbox(value=False, description='c_charge_…"
      ]
     },
     "metadata": {},
     "output_type": "display_data"
    }
   ],
   "source": [
    "df_selected = None\n",
    "\n",
    "\n",
    "def clean_data(**params):\n",
    "    global df_selected\n",
    "    df_selected = df_compas_violent_filt.copy(deep=True) # Refresh raw data at every interaction\n",
    "    \n",
    "    dropped_cols = [k for k in params if not params[k]] # Features with unmarked check boxes\n",
    "    \n",
    "    df_selected.drop(dropped_cols, inplace=True, axis=1) # Switching off features by dropping them\n",
    "    df_selected.dropna(inplace=True)\n",
    "    \n",
    "    return df_selected\n",
    "\n",
    "\n",
    "inter1=interactive(clean_data, **params)\n",
    "display(inter1)"
   ]
  },
  {
   "cell_type": "code",
   "execution_count": 31,
   "metadata": {
    "pycharm": {
     "name": "#%%\n"
    }
   },
   "outputs": [
    {
     "data": {
      "text/html": [
       "<div>\n",
       "<style scoped>\n",
       "    .dataframe tbody tr th:only-of-type {\n",
       "        vertical-align: middle;\n",
       "    }\n",
       "\n",
       "    .dataframe tbody tr th {\n",
       "        vertical-align: top;\n",
       "    }\n",
       "\n",
       "    .dataframe thead th {\n",
       "        text-align: right;\n",
       "    }\n",
       "</style>\n",
       "<table border=\"1\" class=\"dataframe\">\n",
       "  <thead>\n",
       "    <tr style=\"text-align: right;\">\n",
       "      <th></th>\n",
       "      <th>sex</th>\n",
       "      <th>age_cat</th>\n",
       "      <th>race</th>\n",
       "      <th>c_charge_degree</th>\n",
       "      <th>is_recid</th>\n",
       "      <th>score_text</th>\n",
       "      <th>priors_count_cat</th>\n",
       "    </tr>\n",
       "  </thead>\n",
       "  <tbody>\n",
       "    <tr>\n",
       "      <th>0</th>\n",
       "      <td>Male</td>\n",
       "      <td>Greater than 45</td>\n",
       "      <td>Other</td>\n",
       "      <td>(F3)</td>\n",
       "      <td>0</td>\n",
       "      <td>Low</td>\n",
       "      <td>0</td>\n",
       "    </tr>\n",
       "    <tr>\n",
       "      <th>1</th>\n",
       "      <td>Male</td>\n",
       "      <td>Greater than 45</td>\n",
       "      <td>Other</td>\n",
       "      <td>(F3)</td>\n",
       "      <td>0</td>\n",
       "      <td>Low</td>\n",
       "      <td>0</td>\n",
       "    </tr>\n",
       "    <tr>\n",
       "      <th>3</th>\n",
       "      <td>Male</td>\n",
       "      <td>25 - 45</td>\n",
       "      <td>African-American</td>\n",
       "      <td>(F3)</td>\n",
       "      <td>1</td>\n",
       "      <td>Low</td>\n",
       "      <td>0</td>\n",
       "    </tr>\n",
       "    <tr>\n",
       "      <th>4</th>\n",
       "      <td>Male</td>\n",
       "      <td>Less than 25</td>\n",
       "      <td>African-American</td>\n",
       "      <td>(F3)</td>\n",
       "      <td>1</td>\n",
       "      <td>Low</td>\n",
       "      <td>2-5</td>\n",
       "    </tr>\n",
       "    <tr>\n",
       "      <th>5</th>\n",
       "      <td>Male</td>\n",
       "      <td>Less than 25</td>\n",
       "      <td>African-American</td>\n",
       "      <td>(F3)</td>\n",
       "      <td>1</td>\n",
       "      <td>Low</td>\n",
       "      <td>2-5</td>\n",
       "    </tr>\n",
       "  </tbody>\n",
       "</table>\n",
       "</div>"
      ],
      "text/plain": [
       "    sex          age_cat              race c_charge_degree  is_recid  \\\n",
       "0  Male  Greater than 45             Other            (F3)         0   \n",
       "1  Male  Greater than 45             Other            (F3)         0   \n",
       "3  Male          25 - 45  African-American            (F3)         1   \n",
       "4  Male     Less than 25  African-American            (F3)         1   \n",
       "5  Male     Less than 25  African-American            (F3)         1   \n",
       "\n",
       "  score_text priors_count_cat  \n",
       "0        Low                0  \n",
       "1        Low                0  \n",
       "3        Low                0  \n",
       "4        Low              2-5  \n",
       "5        Low              2-5  "
      ]
     },
     "execution_count": 31,
     "metadata": {},
     "output_type": "execute_result"
    }
   ],
   "source": [
    "df_selected.head()"
   ]
  },
  {
   "cell_type": "code",
   "execution_count": 32,
   "metadata": {},
   "outputs": [],
   "source": [
    "# Should feature selection be done by the instructor using the interface?\n",
    "selected_features = list(set(df_selected.columns) - set([target]))\n",
    "cols_of_interest = selected_features + [target]\n",
    "df_selected = pd.get_dummies(df_selected, columns=selected_features)"
   ]
  },
  {
   "cell_type": "code",
   "execution_count": 33,
   "metadata": {
    "pycharm": {
     "name": "#%%\n"
    }
   },
   "outputs": [],
   "source": [
    "encoding = {'Low' : 0, 'Medium' : 1, 'High' : 2} # necessary to code variables for sklearn\n",
    "df_selected[target] = df_selected[target].apply(lambda x: encoding[x])"
   ]
  },
  {
   "cell_type": "code",
   "execution_count": 34,
   "metadata": {},
   "outputs": [
    {
     "data": {
      "text/html": [
       "<div>\n",
       "<style scoped>\n",
       "    .dataframe tbody tr th:only-of-type {\n",
       "        vertical-align: middle;\n",
       "    }\n",
       "\n",
       "    .dataframe tbody tr th {\n",
       "        vertical-align: top;\n",
       "    }\n",
       "\n",
       "    .dataframe thead th {\n",
       "        text-align: right;\n",
       "    }\n",
       "</style>\n",
       "<table border=\"1\" class=\"dataframe\">\n",
       "  <thead>\n",
       "    <tr style=\"text-align: right;\">\n",
       "      <th></th>\n",
       "      <th>score_text</th>\n",
       "      <th>age_cat_25 - 45</th>\n",
       "      <th>age_cat_Greater than 45</th>\n",
       "      <th>age_cat_Less than 25</th>\n",
       "      <th>c_charge_degree_(CO3)</th>\n",
       "      <th>c_charge_degree_(CT)</th>\n",
       "      <th>c_charge_degree_(F1)</th>\n",
       "      <th>c_charge_degree_(F2)</th>\n",
       "      <th>c_charge_degree_(F3)</th>\n",
       "      <th>c_charge_degree_(F5)</th>\n",
       "      <th>...</th>\n",
       "      <th>race_African-American</th>\n",
       "      <th>race_Asian</th>\n",
       "      <th>race_Caucasian</th>\n",
       "      <th>race_Hispanic</th>\n",
       "      <th>race_Native American</th>\n",
       "      <th>race_Other</th>\n",
       "      <th>sex_Female</th>\n",
       "      <th>sex_Male</th>\n",
       "      <th>is_recid_0</th>\n",
       "      <th>is_recid_1</th>\n",
       "    </tr>\n",
       "  </thead>\n",
       "  <tbody>\n",
       "    <tr>\n",
       "      <th>0</th>\n",
       "      <td>0</td>\n",
       "      <td>0</td>\n",
       "      <td>1</td>\n",
       "      <td>0</td>\n",
       "      <td>0</td>\n",
       "      <td>0</td>\n",
       "      <td>0</td>\n",
       "      <td>0</td>\n",
       "      <td>1</td>\n",
       "      <td>0</td>\n",
       "      <td>...</td>\n",
       "      <td>0</td>\n",
       "      <td>0</td>\n",
       "      <td>0</td>\n",
       "      <td>0</td>\n",
       "      <td>0</td>\n",
       "      <td>1</td>\n",
       "      <td>0</td>\n",
       "      <td>1</td>\n",
       "      <td>1</td>\n",
       "      <td>0</td>\n",
       "    </tr>\n",
       "    <tr>\n",
       "      <th>1</th>\n",
       "      <td>0</td>\n",
       "      <td>0</td>\n",
       "      <td>1</td>\n",
       "      <td>0</td>\n",
       "      <td>0</td>\n",
       "      <td>0</td>\n",
       "      <td>0</td>\n",
       "      <td>0</td>\n",
       "      <td>1</td>\n",
       "      <td>0</td>\n",
       "      <td>...</td>\n",
       "      <td>0</td>\n",
       "      <td>0</td>\n",
       "      <td>0</td>\n",
       "      <td>0</td>\n",
       "      <td>0</td>\n",
       "      <td>1</td>\n",
       "      <td>0</td>\n",
       "      <td>1</td>\n",
       "      <td>1</td>\n",
       "      <td>0</td>\n",
       "    </tr>\n",
       "    <tr>\n",
       "      <th>3</th>\n",
       "      <td>0</td>\n",
       "      <td>1</td>\n",
       "      <td>0</td>\n",
       "      <td>0</td>\n",
       "      <td>0</td>\n",
       "      <td>0</td>\n",
       "      <td>0</td>\n",
       "      <td>0</td>\n",
       "      <td>1</td>\n",
       "      <td>0</td>\n",
       "      <td>...</td>\n",
       "      <td>1</td>\n",
       "      <td>0</td>\n",
       "      <td>0</td>\n",
       "      <td>0</td>\n",
       "      <td>0</td>\n",
       "      <td>0</td>\n",
       "      <td>0</td>\n",
       "      <td>1</td>\n",
       "      <td>0</td>\n",
       "      <td>1</td>\n",
       "    </tr>\n",
       "    <tr>\n",
       "      <th>4</th>\n",
       "      <td>0</td>\n",
       "      <td>0</td>\n",
       "      <td>0</td>\n",
       "      <td>1</td>\n",
       "      <td>0</td>\n",
       "      <td>0</td>\n",
       "      <td>0</td>\n",
       "      <td>0</td>\n",
       "      <td>1</td>\n",
       "      <td>0</td>\n",
       "      <td>...</td>\n",
       "      <td>1</td>\n",
       "      <td>0</td>\n",
       "      <td>0</td>\n",
       "      <td>0</td>\n",
       "      <td>0</td>\n",
       "      <td>0</td>\n",
       "      <td>0</td>\n",
       "      <td>1</td>\n",
       "      <td>0</td>\n",
       "      <td>1</td>\n",
       "    </tr>\n",
       "    <tr>\n",
       "      <th>5</th>\n",
       "      <td>0</td>\n",
       "      <td>0</td>\n",
       "      <td>0</td>\n",
       "      <td>1</td>\n",
       "      <td>0</td>\n",
       "      <td>0</td>\n",
       "      <td>0</td>\n",
       "      <td>0</td>\n",
       "      <td>1</td>\n",
       "      <td>0</td>\n",
       "      <td>...</td>\n",
       "      <td>1</td>\n",
       "      <td>0</td>\n",
       "      <td>0</td>\n",
       "      <td>0</td>\n",
       "      <td>0</td>\n",
       "      <td>0</td>\n",
       "      <td>0</td>\n",
       "      <td>1</td>\n",
       "      <td>0</td>\n",
       "      <td>1</td>\n",
       "    </tr>\n",
       "  </tbody>\n",
       "</table>\n",
       "<p>5 rows × 33 columns</p>\n",
       "</div>"
      ],
      "text/plain": [
       "   score_text  age_cat_25 - 45  age_cat_Greater than 45  age_cat_Less than 25  \\\n",
       "0           0                0                        1                     0   \n",
       "1           0                0                        1                     0   \n",
       "3           0                1                        0                     0   \n",
       "4           0                0                        0                     1   \n",
       "5           0                0                        0                     1   \n",
       "\n",
       "   c_charge_degree_(CO3)  c_charge_degree_(CT)  c_charge_degree_(F1)  \\\n",
       "0                      0                     0                     0   \n",
       "1                      0                     0                     0   \n",
       "3                      0                     0                     0   \n",
       "4                      0                     0                     0   \n",
       "5                      0                     0                     0   \n",
       "\n",
       "   c_charge_degree_(F2)  c_charge_degree_(F3)  c_charge_degree_(F5)  ...  \\\n",
       "0                     0                     1                     0  ...   \n",
       "1                     0                     1                     0  ...   \n",
       "3                     0                     1                     0  ...   \n",
       "4                     0                     1                     0  ...   \n",
       "5                     0                     1                     0  ...   \n",
       "\n",
       "   race_African-American  race_Asian  race_Caucasian  race_Hispanic  \\\n",
       "0                      0           0               0              0   \n",
       "1                      0           0               0              0   \n",
       "3                      1           0               0              0   \n",
       "4                      1           0               0              0   \n",
       "5                      1           0               0              0   \n",
       "\n",
       "   race_Native American  race_Other  sex_Female  sex_Male  is_recid_0  \\\n",
       "0                     0           1           0         1           1   \n",
       "1                     0           1           0         1           1   \n",
       "3                     0           0           0         1           0   \n",
       "4                     0           0           0         1           0   \n",
       "5                     0           0           0         1           0   \n",
       "\n",
       "   is_recid_1  \n",
       "0           0  \n",
       "1           0  \n",
       "3           1  \n",
       "4           1  \n",
       "5           1  \n",
       "\n",
       "[5 rows x 33 columns]"
      ]
     },
     "execution_count": 34,
     "metadata": {},
     "output_type": "execute_result"
    }
   ],
   "source": [
    "df_selected.head()"
   ]
  },
  {
   "cell_type": "code",
   "execution_count": 35,
   "metadata": {},
   "outputs": [
    {
     "data": {
      "text/plain": [
       "Index(['score_text', 'age_cat_25 - 45', 'age_cat_Greater than 45',\n",
       "       'age_cat_Less than 25', 'c_charge_degree_(CO3)', 'c_charge_degree_(CT)',\n",
       "       'c_charge_degree_(F1)', 'c_charge_degree_(F2)', 'c_charge_degree_(F3)',\n",
       "       'c_charge_degree_(F5)', 'c_charge_degree_(F6)', 'c_charge_degree_(F7)',\n",
       "       'c_charge_degree_(M1)', 'c_charge_degree_(M2)', 'c_charge_degree_(MO3)',\n",
       "       'c_charge_degree_(NI0)', 'c_charge_degree_(TCX)', 'c_charge_degree_(X)',\n",
       "       'priors_count_cat_0', 'priors_count_cat_1', 'priors_count_cat_13+',\n",
       "       'priors_count_cat_2-5', 'priors_count_cat_6 - 12',\n",
       "       'race_African-American', 'race_Asian', 'race_Caucasian',\n",
       "       'race_Hispanic', 'race_Native American', 'race_Other', 'sex_Female',\n",
       "       'sex_Male', 'is_recid_0', 'is_recid_1'],\n",
       "      dtype='object')"
      ]
     },
     "execution_count": 35,
     "metadata": {},
     "output_type": "execute_result"
    }
   ],
   "source": [
    "df_selected.columns"
   ]
  },
  {
   "cell_type": "markdown",
   "metadata": {},
   "source": [
    "### Let's see how a Decision Tree looks like?"
   ]
  },
  {
   "cell_type": "code",
   "execution_count": 36,
   "metadata": {
    "pycharm": {
     "name": "#%%\n"
    }
   },
   "outputs": [
    {
     "data": {
      "image/svg+xml": [
       "<svg height=\"433pt\" viewBox=\"0.00 0.00 1320.00 433.00\" width=\"1320pt\" xmlns=\"http://www.w3.org/2000/svg\" xmlns:xlink=\"http://www.w3.org/1999/xlink\">\n",
       "<g class=\"graph\" id=\"graph0\" transform=\"scale(1 1) rotate(0) translate(4 429)\">\n",
       "<title>Tree</title>\n",
       "<polygon fill=\"white\" points=\"-4,4 -4,-429 1316,-429 1316,4 -4,4\" stroke=\"transparent\"/>\n",
       "<!-- 0 -->\n",
       "<g class=\"node\" id=\"node1\">\n",
       "<title>0</title>\n",
       "<polygon fill=\"#f8dfcc\" points=\"733.5,-425 546.5,-425 546.5,-342 733.5,-342 733.5,-425\" stroke=\"black\"/>\n",
       "<text font-family=\"Times,serif\" font-size=\"14.00\" text-anchor=\"middle\" x=\"640\" y=\"-409.8\">race_African-American &lt;= 0.5</text>\n",
       "<text font-family=\"Times,serif\" font-size=\"14.00\" text-anchor=\"middle\" x=\"640\" y=\"-394.8\">gini = 0.641</text>\n",
       "<text font-family=\"Times,serif\" font-size=\"14.00\" text-anchor=\"middle\" x=\"640\" y=\"-379.8\">samples = 17431</text>\n",
       "<text font-family=\"Times,serif\" font-size=\"14.00\" text-anchor=\"middle\" x=\"640\" y=\"-364.8\">value = [8087, 4887, 4457]</text>\n",
       "<text font-family=\"Times,serif\" font-size=\"14.00\" text-anchor=\"middle\" x=\"640\" y=\"-349.8\">class = Low</text>\n",
       "</g>\n",
       "<!-- 1 -->\n",
       "<g class=\"node\" id=\"node2\">\n",
       "<title>1</title>\n",
       "<polygon fill=\"#f3c3a0\" points=\"630,-306 442,-306 442,-223 630,-223 630,-306\" stroke=\"black\"/>\n",
       "<text font-family=\"Times,serif\" font-size=\"14.00\" text-anchor=\"middle\" x=\"536\" y=\"-290.8\">priors_count_cat_6 - 12 &lt;= 0.5</text>\n",
       "<text font-family=\"Times,serif\" font-size=\"14.00\" text-anchor=\"middle\" x=\"536\" y=\"-275.8\">gini = 0.549</text>\n",
       "<text font-family=\"Times,serif\" font-size=\"14.00\" text-anchor=\"middle\" x=\"536\" y=\"-260.8\">samples = 8038</text>\n",
       "<text font-family=\"Times,serif\" font-size=\"14.00\" text-anchor=\"middle\" x=\"536\" y=\"-245.8\">value = [4886, 1976, 1176]</text>\n",
       "<text font-family=\"Times,serif\" font-size=\"14.00\" text-anchor=\"middle\" x=\"536\" y=\"-230.8\">class = Low</text>\n",
       "</g>\n",
       "<!-- 0&#45;&gt;1 -->\n",
       "<g class=\"edge\" id=\"edge1\">\n",
       "<title>0-&gt;1</title>\n",
       "<path d=\"M603.92,-341.91C595.85,-332.83 587.22,-323.12 578.91,-313.77\" fill=\"none\" stroke=\"black\"/>\n",
       "<polygon fill=\"black\" points=\"581.28,-311.17 572.02,-306.02 576.05,-315.82 581.28,-311.17\" stroke=\"black\"/>\n",
       "<text font-family=\"Times,serif\" font-size=\"14.00\" text-anchor=\"middle\" x=\"570.55\" y=\"-327.28\">True</text>\n",
       "</g>\n",
       "<!-- 8 -->\n",
       "<g class=\"node\" id=\"node9\">\n",
       "<title>8</title>\n",
       "<polygon fill=\"#fdfcff\" points=\"876.5,-306 699.5,-306 699.5,-223 876.5,-223 876.5,-306\" stroke=\"black\"/>\n",
       "<text font-family=\"Times,serif\" font-size=\"14.00\" text-anchor=\"middle\" x=\"788\" y=\"-290.8\">priors_count_cat_13+ &lt;= 0.5</text>\n",
       "<text font-family=\"Times,serif\" font-size=\"14.00\" text-anchor=\"middle\" x=\"788\" y=\"-275.8\">gini = 0.666</text>\n",
       "<text font-family=\"Times,serif\" font-size=\"14.00\" text-anchor=\"middle\" x=\"788\" y=\"-260.8\">samples = 9393</text>\n",
       "<text font-family=\"Times,serif\" font-size=\"14.00\" text-anchor=\"middle\" x=\"788\" y=\"-245.8\">value = [3201, 2911, 3281]</text>\n",
       "<text font-family=\"Times,serif\" font-size=\"14.00\" text-anchor=\"middle\" x=\"788\" y=\"-230.8\">class = High</text>\n",
       "</g>\n",
       "<!-- 0&#45;&gt;8 -->\n",
       "<g class=\"edge\" id=\"edge8\">\n",
       "<title>0-&gt;8</title>\n",
       "<path d=\"M691.35,-341.91C703.4,-332.38 716.34,-322.15 728.71,-312.37\" fill=\"none\" stroke=\"black\"/>\n",
       "<polygon fill=\"black\" points=\"731.07,-314.97 736.74,-306.02 726.73,-309.48 731.07,-314.97\" stroke=\"black\"/>\n",
       "<text font-family=\"Times,serif\" font-size=\"14.00\" text-anchor=\"middle\" x=\"733.84\" y=\"-327.15\">False</text>\n",
       "</g>\n",
       "<!-- 2 -->\n",
       "<g class=\"node\" id=\"node3\">\n",
       "<title>2</title>\n",
       "<polygon fill=\"#f0b991\" points=\"338.5,-187 163.5,-187 163.5,-104 338.5,-104 338.5,-187\" stroke=\"black\"/>\n",
       "<text font-family=\"Times,serif\" font-size=\"14.00\" text-anchor=\"middle\" x=\"251\" y=\"-171.8\">age_cat_Less than 25 &lt;= 0.5</text>\n",
       "<text font-family=\"Times,serif\" font-size=\"14.00\" text-anchor=\"middle\" x=\"251\" y=\"-156.8\">gini = 0.504</text>\n",
       "<text font-family=\"Times,serif\" font-size=\"14.00\" text-anchor=\"middle\" x=\"251\" y=\"-141.8\">samples = 6983</text>\n",
       "<text font-family=\"Times,serif\" font-size=\"14.00\" text-anchor=\"middle\" x=\"251\" y=\"-126.8\">value = [4588, 1565, 830]</text>\n",
       "<text font-family=\"Times,serif\" font-size=\"14.00\" text-anchor=\"middle\" x=\"251\" y=\"-111.8\">class = Low</text>\n",
       "</g>\n",
       "<!-- 1&#45;&gt;2 -->\n",
       "<g class=\"edge\" id=\"edge2\">\n",
       "<title>1-&gt;2</title>\n",
       "<path d=\"M441.89,-224.87C411.77,-212.5 378.37,-198.79 348.05,-186.34\" fill=\"none\" stroke=\"black\"/>\n",
       "<polygon fill=\"black\" points=\"349.32,-183.08 338.74,-182.52 346.66,-189.55 349.32,-183.08\" stroke=\"black\"/>\n",
       "</g>\n",
       "<!-- 5 -->\n",
       "<g class=\"node\" id=\"node6\">\n",
       "<title>5</title>\n",
       "<polygon fill=\"#edfdf3\" points=\"631.5,-187 440.5,-187 440.5,-104 631.5,-104 631.5,-187\" stroke=\"black\"/>\n",
       "<text font-family=\"Times,serif\" font-size=\"14.00\" text-anchor=\"middle\" x=\"536\" y=\"-171.8\">age_cat_Greater than 45 &lt;= 0.5</text>\n",
       "<text font-family=\"Times,serif\" font-size=\"14.00\" text-anchor=\"middle\" x=\"536\" y=\"-156.8\">gini = 0.661</text>\n",
       "<text font-family=\"Times,serif\" font-size=\"14.00\" text-anchor=\"middle\" x=\"536\" y=\"-141.8\">samples = 1055</text>\n",
       "<text font-family=\"Times,serif\" font-size=\"14.00\" text-anchor=\"middle\" x=\"536\" y=\"-126.8\">value = [298, 411, 346]</text>\n",
       "<text font-family=\"Times,serif\" font-size=\"14.00\" text-anchor=\"middle\" x=\"536\" y=\"-111.8\">class = Medium</text>\n",
       "</g>\n",
       "<!-- 1&#45;&gt;5 -->\n",
       "<g class=\"edge\" id=\"edge5\">\n",
       "<title>1-&gt;5</title>\n",
       "<path d=\"M536,-222.91C536,-214.65 536,-205.86 536,-197.3\" fill=\"none\" stroke=\"black\"/>\n",
       "<polygon fill=\"black\" points=\"539.5,-197.02 536,-187.02 532.5,-197.02 539.5,-197.02\" stroke=\"black\"/>\n",
       "</g>\n",
       "<!-- 3 -->\n",
       "<g class=\"node\" id=\"node4\">\n",
       "<title>3</title>\n",
       "<polygon fill=\"#eead7d\" points=\"160,-68 0,-68 0,0 160,0 160,-68\" stroke=\"black\"/>\n",
       "<text font-family=\"Times,serif\" font-size=\"14.00\" text-anchor=\"middle\" x=\"80\" y=\"-52.8\">gini = 0.436</text>\n",
       "<text font-family=\"Times,serif\" font-size=\"14.00\" text-anchor=\"middle\" x=\"80\" y=\"-37.8\">samples = 5570</text>\n",
       "<text font-family=\"Times,serif\" font-size=\"14.00\" text-anchor=\"middle\" x=\"80\" y=\"-22.8\">value = [4016, 1072, 482]</text>\n",
       "<text font-family=\"Times,serif\" font-size=\"14.00\" text-anchor=\"middle\" x=\"80\" y=\"-7.8\">class = Low</text>\n",
       "</g>\n",
       "<!-- 2&#45;&gt;3 -->\n",
       "<g class=\"edge\" id=\"edge3\">\n",
       "<title>2-&gt;3</title>\n",
       "<path d=\"M187.33,-103.73C172.01,-93.92 155.68,-83.46 140.51,-73.75\" fill=\"none\" stroke=\"black\"/>\n",
       "<polygon fill=\"black\" points=\"142.04,-70.57 131.73,-68.13 138.26,-76.47 142.04,-70.57\" stroke=\"black\"/>\n",
       "</g>\n",
       "<!-- 4 -->\n",
       "<g class=\"node\" id=\"node5\">\n",
       "<title>4</title>\n",
       "<polygon fill=\"#fdf4ee\" points=\"324,-68 178,-68 178,0 324,0 324,-68\" stroke=\"black\"/>\n",
       "<text font-family=\"Times,serif\" font-size=\"14.00\" text-anchor=\"middle\" x=\"251\" y=\"-52.8\">gini = 0.654</text>\n",
       "<text font-family=\"Times,serif\" font-size=\"14.00\" text-anchor=\"middle\" x=\"251\" y=\"-37.8\">samples = 1413</text>\n",
       "<text font-family=\"Times,serif\" font-size=\"14.00\" text-anchor=\"middle\" x=\"251\" y=\"-22.8\">value = [572, 493, 348]</text>\n",
       "<text font-family=\"Times,serif\" font-size=\"14.00\" text-anchor=\"middle\" x=\"251\" y=\"-7.8\">class = Low</text>\n",
       "</g>\n",
       "<!-- 2&#45;&gt;4 -->\n",
       "<g class=\"edge\" id=\"edge4\">\n",
       "<title>2-&gt;4</title>\n",
       "<path d=\"M251,-103.73C251,-95.52 251,-86.86 251,-78.56\" fill=\"none\" stroke=\"black\"/>\n",
       "<polygon fill=\"black\" points=\"254.5,-78.3 251,-68.3 247.5,-78.3 254.5,-78.3\" stroke=\"black\"/>\n",
       "</g>\n",
       "<!-- 6 -->\n",
       "<g class=\"node\" id=\"node7\">\n",
       "<title>6</title>\n",
       "<polygon fill=\"#faf8fe\" points=\"488,-68 342,-68 342,0 488,0 488,-68\" stroke=\"black\"/>\n",
       "<text font-family=\"Times,serif\" font-size=\"14.00\" text-anchor=\"middle\" x=\"415\" y=\"-52.8\">gini = 0.637</text>\n",
       "<text font-family=\"Times,serif\" font-size=\"14.00\" text-anchor=\"middle\" x=\"415\" y=\"-37.8\">samples = 784</text>\n",
       "<text font-family=\"Times,serif\" font-size=\"14.00\" text-anchor=\"middle\" x=\"415\" y=\"-22.8\">value = [152, 307, 325]</text>\n",
       "<text font-family=\"Times,serif\" font-size=\"14.00\" text-anchor=\"middle\" x=\"415\" y=\"-7.8\">class = High</text>\n",
       "</g>\n",
       "<!-- 5&#45;&gt;6 -->\n",
       "<g class=\"edge\" id=\"edge6\">\n",
       "<title>5-&gt;6</title>\n",
       "<path d=\"M490.94,-103.73C480.66,-94.42 469.75,-84.54 459.49,-75.26\" fill=\"none\" stroke=\"black\"/>\n",
       "<polygon fill=\"black\" points=\"461.56,-72.41 451.8,-68.3 456.86,-77.6 461.56,-72.41\" stroke=\"black\"/>\n",
       "</g>\n",
       "<!-- 7 -->\n",
       "<g class=\"node\" id=\"node8\">\n",
       "<title>7</title>\n",
       "<polygon fill=\"#f8dfcd\" points=\"646,-68 506,-68 506,0 646,0 646,-68\" stroke=\"black\"/>\n",
       "<text font-family=\"Times,serif\" font-size=\"14.00\" text-anchor=\"middle\" x=\"576\" y=\"-52.8\">gini = 0.556</text>\n",
       "<text font-family=\"Times,serif\" font-size=\"14.00\" text-anchor=\"middle\" x=\"576\" y=\"-37.8\">samples = 271</text>\n",
       "<text font-family=\"Times,serif\" font-size=\"14.00\" text-anchor=\"middle\" x=\"576\" y=\"-22.8\">value = [146, 104, 21]</text>\n",
       "<text font-family=\"Times,serif\" font-size=\"14.00\" text-anchor=\"middle\" x=\"576\" y=\"-7.8\">class = Low</text>\n",
       "</g>\n",
       "<!-- 5&#45;&gt;7 -->\n",
       "<g class=\"edge\" id=\"edge7\">\n",
       "<title>5-&gt;7</title>\n",
       "<path d=\"M550.89,-103.73C553.99,-95.24 557.27,-86.28 560.39,-77.73\" fill=\"none\" stroke=\"black\"/>\n",
       "<polygon fill=\"black\" points=\"563.69,-78.89 563.84,-68.3 557.12,-76.49 563.69,-78.89\" stroke=\"black\"/>\n",
       "</g>\n",
       "<!-- 9 -->\n",
       "<g class=\"node\" id=\"node10\">\n",
       "<title>9</title>\n",
       "<polygon fill=\"#fcf3ec\" points=\"882,-187 694,-187 694,-104 882,-104 882,-187\" stroke=\"black\"/>\n",
       "<text font-family=\"Times,serif\" font-size=\"14.00\" text-anchor=\"middle\" x=\"788\" y=\"-171.8\">priors_count_cat_6 - 12 &lt;= 0.5</text>\n",
       "<text font-family=\"Times,serif\" font-size=\"14.00\" text-anchor=\"middle\" x=\"788\" y=\"-156.8\">gini = 0.663</text>\n",
       "<text font-family=\"Times,serif\" font-size=\"14.00\" text-anchor=\"middle\" x=\"788\" y=\"-141.8\">samples = 8266</text>\n",
       "<text font-family=\"Times,serif\" font-size=\"14.00\" text-anchor=\"middle\" x=\"788\" y=\"-126.8\">value = [3144, 2591, 2531]</text>\n",
       "<text font-family=\"Times,serif\" font-size=\"14.00\" text-anchor=\"middle\" x=\"788\" y=\"-111.8\">class = Low</text>\n",
       "</g>\n",
       "<!-- 8&#45;&gt;9 -->\n",
       "<g class=\"edge\" id=\"edge9\">\n",
       "<title>8-&gt;9</title>\n",
       "<path d=\"M788,-222.91C788,-214.65 788,-205.86 788,-197.3\" fill=\"none\" stroke=\"black\"/>\n",
       "<polygon fill=\"black\" points=\"791.5,-197.02 788,-187.02 784.5,-197.02 791.5,-197.02\" stroke=\"black\"/>\n",
       "</g>\n",
       "<!-- 12 -->\n",
       "<g class=\"node\" id=\"node13\">\n",
       "<title>12</title>\n",
       "<polygon fill=\"#bc95f1\" points=\"1179.5,-187 988.5,-187 988.5,-104 1179.5,-104 1179.5,-187\" stroke=\"black\"/>\n",
       "<text font-family=\"Times,serif\" font-size=\"14.00\" text-anchor=\"middle\" x=\"1084\" y=\"-171.8\">age_cat_Greater than 45 &lt;= 0.5</text>\n",
       "<text font-family=\"Times,serif\" font-size=\"14.00\" text-anchor=\"middle\" x=\"1084\" y=\"-156.8\">gini = 0.474</text>\n",
       "<text font-family=\"Times,serif\" font-size=\"14.00\" text-anchor=\"middle\" x=\"1084\" y=\"-141.8\">samples = 1127</text>\n",
       "<text font-family=\"Times,serif\" font-size=\"14.00\" text-anchor=\"middle\" x=\"1084\" y=\"-126.8\">value = [57, 320, 750]</text>\n",
       "<text font-family=\"Times,serif\" font-size=\"14.00\" text-anchor=\"middle\" x=\"1084\" y=\"-111.8\">class = High</text>\n",
       "</g>\n",
       "<!-- 8&#45;&gt;12 -->\n",
       "<g class=\"edge\" id=\"edge12\">\n",
       "<title>8-&gt;12</title>\n",
       "<path d=\"M876.81,-228.4C908.95,-215.69 945.56,-201.22 978.96,-188.02\" fill=\"none\" stroke=\"black\"/>\n",
       "<polygon fill=\"black\" points=\"980.28,-191.26 988.29,-184.33 977.71,-184.75 980.28,-191.26\" stroke=\"black\"/>\n",
       "</g>\n",
       "<!-- 10 -->\n",
       "<g class=\"node\" id=\"node11\">\n",
       "<title>10</title>\n",
       "<polygon fill=\"#fae5d6\" points=\"831.5,-68 664.5,-68 664.5,0 831.5,0 831.5,-68\" stroke=\"black\"/>\n",
       "<text font-family=\"Times,serif\" font-size=\"14.00\" text-anchor=\"middle\" x=\"748\" y=\"-52.8\">gini = 0.647</text>\n",
       "<text font-family=\"Times,serif\" font-size=\"14.00\" text-anchor=\"middle\" x=\"748\" y=\"-37.8\">samples = 6258</text>\n",
       "<text font-family=\"Times,serif\" font-size=\"14.00\" text-anchor=\"middle\" x=\"748\" y=\"-22.8\">value = [2779, 1866, 1613]</text>\n",
       "<text font-family=\"Times,serif\" font-size=\"14.00\" text-anchor=\"middle\" x=\"748\" y=\"-7.8\">class = Low</text>\n",
       "</g>\n",
       "<!-- 9&#45;&gt;10 -->\n",
       "<g class=\"edge\" id=\"edge10\">\n",
       "<title>9-&gt;10</title>\n",
       "<path d=\"M773.11,-103.73C770.01,-95.24 766.73,-86.28 763.61,-77.73\" fill=\"none\" stroke=\"black\"/>\n",
       "<polygon fill=\"black\" points=\"766.88,-76.49 760.16,-68.3 760.31,-78.89 766.88,-76.49\" stroke=\"black\"/>\n",
       "</g>\n",
       "<!-- 11 -->\n",
       "<g class=\"node\" id=\"node12\">\n",
       "<title>11</title>\n",
       "<polygon fill=\"#ece1fb\" points=\"996,-68 850,-68 850,0 996,0 996,-68\" stroke=\"black\"/>\n",
       "<text font-family=\"Times,serif\" font-size=\"14.00\" text-anchor=\"middle\" x=\"923\" y=\"-52.8\">gini = 0.628</text>\n",
       "<text font-family=\"Times,serif\" font-size=\"14.00\" text-anchor=\"middle\" x=\"923\" y=\"-37.8\">samples = 2008</text>\n",
       "<text font-family=\"Times,serif\" font-size=\"14.00\" text-anchor=\"middle\" x=\"923\" y=\"-22.8\">value = [365, 725, 918]</text>\n",
       "<text font-family=\"Times,serif\" font-size=\"14.00\" text-anchor=\"middle\" x=\"923\" y=\"-7.8\">class = High</text>\n",
       "</g>\n",
       "<!-- 9&#45;&gt;11 -->\n",
       "<g class=\"edge\" id=\"edge11\">\n",
       "<title>9-&gt;11</title>\n",
       "<path d=\"M838.27,-103.73C849.96,-94.24 862.4,-84.16 874.04,-74.72\" fill=\"none\" stroke=\"black\"/>\n",
       "<polygon fill=\"black\" points=\"876.38,-77.32 881.95,-68.3 871.97,-71.88 876.38,-77.32\" stroke=\"black\"/>\n",
       "</g>\n",
       "<!-- 13 -->\n",
       "<g class=\"node\" id=\"node14\">\n",
       "<title>13</title>\n",
       "<polygon fill=\"#a36eec\" points=\"1154,-68 1014,-68 1014,0 1154,0 1154,-68\" stroke=\"black\"/>\n",
       "<text font-family=\"Times,serif\" font-size=\"14.00\" text-anchor=\"middle\" x=\"1084\" y=\"-52.8\">gini = 0.344</text>\n",
       "<text font-family=\"Times,serif\" font-size=\"14.00\" text-anchor=\"middle\" x=\"1084\" y=\"-37.8\">samples = 789</text>\n",
       "<text font-family=\"Times,serif\" font-size=\"14.00\" text-anchor=\"middle\" x=\"1084\" y=\"-22.8\">value = [12, 158, 619]</text>\n",
       "<text font-family=\"Times,serif\" font-size=\"14.00\" text-anchor=\"middle\" x=\"1084\" y=\"-7.8\">class = High</text>\n",
       "</g>\n",
       "<!-- 12&#45;&gt;13 -->\n",
       "<g class=\"edge\" id=\"edge13\">\n",
       "<title>12-&gt;13</title>\n",
       "<path d=\"M1084,-103.73C1084,-95.52 1084,-86.86 1084,-78.56\" fill=\"none\" stroke=\"black\"/>\n",
       "<polygon fill=\"black\" points=\"1087.5,-78.3 1084,-68.3 1080.5,-78.3 1087.5,-78.3\" stroke=\"black\"/>\n",
       "</g>\n",
       "<!-- 14 -->\n",
       "<g class=\"node\" id=\"node15\">\n",
       "<title>14</title>\n",
       "<polygon fill=\"#e1fbec\" points=\"1312,-68 1172,-68 1172,0 1312,0 1312,-68\" stroke=\"black\"/>\n",
       "<text font-family=\"Times,serif\" font-size=\"14.00\" text-anchor=\"middle\" x=\"1242\" y=\"-52.8\">gini = 0.602</text>\n",
       "<text font-family=\"Times,serif\" font-size=\"14.00\" text-anchor=\"middle\" x=\"1242\" y=\"-37.8\">samples = 338</text>\n",
       "<text font-family=\"Times,serif\" font-size=\"14.00\" text-anchor=\"middle\" x=\"1242\" y=\"-22.8\">value = [45, 162, 131]</text>\n",
       "<text font-family=\"Times,serif\" font-size=\"14.00\" text-anchor=\"middle\" x=\"1242\" y=\"-7.8\">class = Medium</text>\n",
       "</g>\n",
       "<!-- 12&#45;&gt;14 -->\n",
       "<g class=\"edge\" id=\"edge14\">\n",
       "<title>12-&gt;14</title>\n",
       "<path d=\"M1142.83,-103.73C1156.86,-94.01 1171.79,-83.66 1185.69,-74.02\" fill=\"none\" stroke=\"black\"/>\n",
       "<polygon fill=\"black\" points=\"1187.98,-76.7 1194.2,-68.13 1183.99,-70.94 1187.98,-76.7\" stroke=\"black\"/>\n",
       "</g>\n",
       "</g>\n",
       "</svg>"
      ],
      "text/plain": [
       "<IPython.core.display.SVG object>"
      ]
     },
     "metadata": {},
     "output_type": "display_data"
    }
   ],
   "source": [
    "# Vanilla ML\n",
    "X = df_selected[set(df_selected.columns) - set([target])]\n",
    "Y = df_selected[target]\n",
    "estimator = DecisionTreeClassifier(random_state=0, criterion='gini', splitter='best', max_depth=3)\n",
    "estimator.fit(X, Y)\n",
    "\n",
    "# Render Decision Tree\n",
    "labels = X.columns\n",
    "graph = Source(export_graphviz(estimator, out_file=None, feature_names=labels, class_names=['Low', 'Medium', 'High'], filled=True))\n",
    "display(SVG(graph.pipe(format='svg')))"
   ]
  },
  {
   "cell_type": "code",
   "execution_count": 37,
   "metadata": {},
   "outputs": [
    {
     "data": {
      "text/plain": [
       "'dt_w_priors_cat.pdf'"
      ]
     },
     "execution_count": 37,
     "metadata": {},
     "output_type": "execute_result"
    }
   ],
   "source": [
    "# save the decision tree to your local files\n",
    "graph.render(\"dt_w_priors_cat\")"
   ]
  },
  {
   "cell_type": "markdown",
   "metadata": {},
   "source": [
    "### What happens if racial profiling skews the data even further?"
   ]
  },
  {
   "cell_type": "code",
   "execution_count": 38,
   "metadata": {
    "pycharm": {
     "name": "#%%\n"
    }
   },
   "outputs": [
    {
     "data": {
      "application/vnd.jupyter.widget-view+json": {
       "model_id": "fe33b30f4d064061908fa38760e6f677",
       "version_major": 2,
       "version_minor": 0
      },
      "text/plain": [
       "interactive(children=(Checkbox(value=False, description='racial_profiling'), Output()), _dom_classes=('widget-…"
      ]
     },
     "metadata": {},
     "output_type": "display_data"
    }
   ],
   "source": [
    "protected_value = 'race_African-American'\n",
    "\n",
    "\n",
    "# If a given row x (a training example) has 'racepctblack' greater than the median value, then\n",
    "# multiply the outcome 'ViolentCrimesPerPop' by the user-defined ratio; otherwise, multiply by\n",
    "# the inverse of the user-defined ratio.\n",
    "# Interpretation: the greater the ratio, the worst is the bias against communities with above\n",
    "# average Black populations; the smaller the ratio, the more favorable is the bias; setting to\n",
    "# 1.0 keeps the data in its original form.\n",
    "\n",
    "def apply_bias(x):\n",
    "    global protected_value\n",
    "    if (x[protected_value] and x[target] != 2):\n",
    "        return x[target] + 1\n",
    "    return x[target]\n",
    "\n",
    "\n",
    "def plot_tree(racial_profiling=False):\n",
    "    df_biased = df_selected.copy(deep=True)\n",
    "    df_biased[target] = df_biased.apply(apply_bias, axis=1)\n",
    "    \n",
    "    # Vanilla ML\n",
    "    X = df_biased[set(df_biased.columns) - set([target])]\n",
    "    Y = df_biased[target]\n",
    "    estimator = DecisionTreeClassifier(random_state=0, criterion='gini', splitter='best', max_depth=3)\n",
    "    estimator.fit(X, Y)\n",
    "    \n",
    "    # Render Decision Tree\n",
    "    labels = X.columns\n",
    "    graph = Source(export_graphviz(estimator, out_file=None, feature_names=labels, class_names=['Low', 'Medium', 'High'], filled=True))\n",
    "    display(SVG(graph.pipe(format='svg')))\n",
    "    return estimator\n",
    "\n",
    "\n",
    "inter2=interactive(plot_tree, racial_profiling=False)\n",
    "display(inter2)"
   ]
  },
  {
   "cell_type": "code",
   "execution_count": null,
   "metadata": {
    "pycharm": {
     "name": "#%%\n"
    }
   },
   "outputs": [],
   "source": []
  },
  {
   "cell_type": "markdown",
   "metadata": {},
   "source": []
  },
  {
   "cell_type": "code",
   "execution_count": 55,
   "metadata": {},
   "outputs": [
    {
     "data": {
      "image/svg+xml": [
       "<svg height=\"433pt\" viewBox=\"0.00 0.00 1339.50 433.00\" width=\"1340pt\" xmlns=\"http://www.w3.org/2000/svg\" xmlns:xlink=\"http://www.w3.org/1999/xlink\">\n",
       "<g class=\"graph\" id=\"graph0\" transform=\"scale(1 1) rotate(0) translate(4 429)\">\n",
       "<title>Tree</title>\n",
       "<polygon fill=\"white\" points=\"-4,4 -4,-429 1335.5,-429 1335.5,4 -4,4\" stroke=\"transparent\"/>\n",
       "<!-- 0 -->\n",
       "<g class=\"node\" id=\"node1\">\n",
       "<title>0</title>\n",
       "<polygon fill=\"#f8dfcc\" points=\"731,-425 544,-425 544,-342 731,-342 731,-425\" stroke=\"black\"/>\n",
       "<text font-family=\"Times,serif\" font-size=\"14.00\" text-anchor=\"middle\" x=\"637.5\" y=\"-409.8\">race_African-American &lt;= 0.5</text>\n",
       "<text font-family=\"Times,serif\" font-size=\"14.00\" text-anchor=\"middle\" x=\"637.5\" y=\"-394.8\">gini = 0.641</text>\n",
       "<text font-family=\"Times,serif\" font-size=\"14.00\" text-anchor=\"middle\" x=\"637.5\" y=\"-379.8\">samples = 17431</text>\n",
       "<text font-family=\"Times,serif\" font-size=\"14.00\" text-anchor=\"middle\" x=\"637.5\" y=\"-364.8\">value = [8087, 4887, 4457]</text>\n",
       "<text font-family=\"Times,serif\" font-size=\"14.00\" text-anchor=\"middle\" x=\"637.5\" y=\"-349.8\">class = Low</text>\n",
       "</g>\n",
       "<!-- 1 -->\n",
       "<g class=\"node\" id=\"node2\">\n",
       "<title>1</title>\n",
       "<polygon fill=\"#f3c3a0\" points=\"627,-306 460,-306 460,-223 627,-223 627,-306\" stroke=\"black\"/>\n",
       "<text font-family=\"Times,serif\" font-size=\"14.00\" text-anchor=\"middle\" x=\"543.5\" y=\"-290.8\">is_recid_1 &lt;= 0.5</text>\n",
       "<text font-family=\"Times,serif\" font-size=\"14.00\" text-anchor=\"middle\" x=\"543.5\" y=\"-275.8\">gini = 0.549</text>\n",
       "<text font-family=\"Times,serif\" font-size=\"14.00\" text-anchor=\"middle\" x=\"543.5\" y=\"-260.8\">samples = 8038</text>\n",
       "<text font-family=\"Times,serif\" font-size=\"14.00\" text-anchor=\"middle\" x=\"543.5\" y=\"-245.8\">value = [4886, 1976, 1176]</text>\n",
       "<text font-family=\"Times,serif\" font-size=\"14.00\" text-anchor=\"middle\" x=\"543.5\" y=\"-230.8\">class = Low</text>\n",
       "</g>\n",
       "<!-- 0&#45;&gt;1 -->\n",
       "<g class=\"edge\" id=\"edge1\">\n",
       "<title>0-&gt;1</title>\n",
       "<path d=\"M604.89,-341.91C597.67,-332.92 589.95,-323.32 582.51,-314.05\" fill=\"none\" stroke=\"black\"/>\n",
       "<polygon fill=\"black\" points=\"585.05,-311.62 576.06,-306.02 579.59,-316.01 585.05,-311.62\" stroke=\"black\"/>\n",
       "<text font-family=\"Times,serif\" font-size=\"14.00\" text-anchor=\"middle\" x=\"573.35\" y=\"-327.17\">True</text>\n",
       "</g>\n",
       "<!-- 8 -->\n",
       "<g class=\"node\" id=\"node9\">\n",
       "<title>8</title>\n",
       "<polygon fill=\"#fdfcff\" points=\"876,-306 709,-306 709,-223 876,-223 876,-306\" stroke=\"black\"/>\n",
       "<text font-family=\"Times,serif\" font-size=\"14.00\" text-anchor=\"middle\" x=\"792.5\" y=\"-290.8\">priors_count_0 &lt;= 0.5</text>\n",
       "<text font-family=\"Times,serif\" font-size=\"14.00\" text-anchor=\"middle\" x=\"792.5\" y=\"-275.8\">gini = 0.666</text>\n",
       "<text font-family=\"Times,serif\" font-size=\"14.00\" text-anchor=\"middle\" x=\"792.5\" y=\"-260.8\">samples = 9393</text>\n",
       "<text font-family=\"Times,serif\" font-size=\"14.00\" text-anchor=\"middle\" x=\"792.5\" y=\"-245.8\">value = [3201, 2911, 3281]</text>\n",
       "<text font-family=\"Times,serif\" font-size=\"14.00\" text-anchor=\"middle\" x=\"792.5\" y=\"-230.8\">class = High</text>\n",
       "</g>\n",
       "<!-- 0&#45;&gt;8 -->\n",
       "<g class=\"edge\" id=\"edge8\">\n",
       "<title>0-&gt;8</title>\n",
       "<path d=\"M691.28,-341.91C704.02,-332.29 717.71,-321.95 730.78,-312.09\" fill=\"none\" stroke=\"black\"/>\n",
       "<polygon fill=\"black\" points=\"732.95,-314.84 738.82,-306.02 728.73,-309.25 732.95,-314.84\" stroke=\"black\"/>\n",
       "<text font-family=\"Times,serif\" font-size=\"14.00\" text-anchor=\"middle\" x=\"735.36\" y=\"-327.08\">False</text>\n",
       "</g>\n",
       "<!-- 2 -->\n",
       "<g class=\"node\" id=\"node3\">\n",
       "<title>2</title>\n",
       "<polygon fill=\"#eeae7f\" points=\"340,-187 149,-187 149,-104 340,-104 340,-187\" stroke=\"black\"/>\n",
       "<text font-family=\"Times,serif\" font-size=\"14.00\" text-anchor=\"middle\" x=\"244.5\" y=\"-171.8\">age_cat_Greater than 45 &lt;= 0.5</text>\n",
       "<text font-family=\"Times,serif\" font-size=\"14.00\" text-anchor=\"middle\" x=\"244.5\" y=\"-156.8\">gini = 0.444</text>\n",
       "<text font-family=\"Times,serif\" font-size=\"14.00\" text-anchor=\"middle\" x=\"244.5\" y=\"-141.8\">samples = 4731</text>\n",
       "<text font-family=\"Times,serif\" font-size=\"14.00\" text-anchor=\"middle\" x=\"244.5\" y=\"-126.8\">value = [3377, 923, 431]</text>\n",
       "<text font-family=\"Times,serif\" font-size=\"14.00\" text-anchor=\"middle\" x=\"244.5\" y=\"-111.8\">class = Low</text>\n",
       "</g>\n",
       "<!-- 1&#45;&gt;2 -->\n",
       "<g class=\"edge\" id=\"edge2\">\n",
       "<title>1-&gt;2</title>\n",
       "<path d=\"M459.81,-230.75C425.64,-217.38 385.73,-201.76 349.62,-187.63\" fill=\"none\" stroke=\"black\"/>\n",
       "<polygon fill=\"black\" points=\"350.62,-184.27 340.03,-183.88 348.07,-190.79 350.62,-184.27\" stroke=\"black\"/>\n",
       "</g>\n",
       "<!-- 5 -->\n",
       "<g class=\"node\" id=\"node6\">\n",
       "<title>5</title>\n",
       "<polygon fill=\"#fae6d7\" points=\"631,-187 456,-187 456,-104 631,-104 631,-187\" stroke=\"black\"/>\n",
       "<text font-family=\"Times,serif\" font-size=\"14.00\" text-anchor=\"middle\" x=\"543.5\" y=\"-171.8\">age_cat_Less than 25 &lt;= 0.5</text>\n",
       "<text font-family=\"Times,serif\" font-size=\"14.00\" text-anchor=\"middle\" x=\"543.5\" y=\"-156.8\">gini = 0.64</text>\n",
       "<text font-family=\"Times,serif\" font-size=\"14.00\" text-anchor=\"middle\" x=\"543.5\" y=\"-141.8\">samples = 3307</text>\n",
       "<text font-family=\"Times,serif\" font-size=\"14.00\" text-anchor=\"middle\" x=\"543.5\" y=\"-126.8\">value = [1509, 1053, 745]</text>\n",
       "<text font-family=\"Times,serif\" font-size=\"14.00\" text-anchor=\"middle\" x=\"543.5\" y=\"-111.8\">class = Low</text>\n",
       "</g>\n",
       "<!-- 1&#45;&gt;5 -->\n",
       "<g class=\"edge\" id=\"edge5\">\n",
       "<title>1-&gt;5</title>\n",
       "<path d=\"M543.5,-222.91C543.5,-214.65 543.5,-205.86 543.5,-197.3\" fill=\"none\" stroke=\"black\"/>\n",
       "<polygon fill=\"black\" points=\"547,-197.02 543.5,-187.02 540,-197.02 547,-197.02\" stroke=\"black\"/>\n",
       "</g>\n",
       "<!-- 3 -->\n",
       "<g class=\"node\" id=\"node4\">\n",
       "<title>3</title>\n",
       "<polygon fill=\"#f1bb95\" points=\"153,-68 0,-68 0,0 153,0 153,-68\" stroke=\"black\"/>\n",
       "<text font-family=\"Times,serif\" font-size=\"14.00\" text-anchor=\"middle\" x=\"76.5\" y=\"-52.8\">gini = 0.513</text>\n",
       "<text font-family=\"Times,serif\" font-size=\"14.00\" text-anchor=\"middle\" x=\"76.5\" y=\"-37.8\">samples = 3311</text>\n",
       "<text font-family=\"Times,serif\" font-size=\"14.00\" text-anchor=\"middle\" x=\"76.5\" y=\"-22.8\">value = [2140, 784, 387]</text>\n",
       "<text font-family=\"Times,serif\" font-size=\"14.00\" text-anchor=\"middle\" x=\"76.5\" y=\"-7.8\">class = Low</text>\n",
       "</g>\n",
       "<!-- 2&#45;&gt;3 -->\n",
       "<g class=\"edge\" id=\"edge3\">\n",
       "<title>2-&gt;3</title>\n",
       "<path d=\"M181.94,-103.73C166.89,-93.92 150.86,-83.46 135.95,-73.75\" fill=\"none\" stroke=\"black\"/>\n",
       "<polygon fill=\"black\" points=\"137.61,-70.65 127.32,-68.13 133.79,-76.52 137.61,-70.65\" stroke=\"black\"/>\n",
       "</g>\n",
       "<!-- 4 -->\n",
       "<g class=\"node\" id=\"node5\">\n",
       "<title>4</title>\n",
       "<polygon fill=\"#e99355\" points=\"317.5,-68 171.5,-68 171.5,0 317.5,0 317.5,-68\" stroke=\"black\"/>\n",
       "<text font-family=\"Times,serif\" font-size=\"14.00\" text-anchor=\"middle\" x=\"244.5\" y=\"-52.8\">gini = 0.231</text>\n",
       "<text font-family=\"Times,serif\" font-size=\"14.00\" text-anchor=\"middle\" x=\"244.5\" y=\"-37.8\">samples = 1420</text>\n",
       "<text font-family=\"Times,serif\" font-size=\"14.00\" text-anchor=\"middle\" x=\"244.5\" y=\"-22.8\">value = [1237, 139, 44]</text>\n",
       "<text font-family=\"Times,serif\" font-size=\"14.00\" text-anchor=\"middle\" x=\"244.5\" y=\"-7.8\">class = Low</text>\n",
       "</g>\n",
       "<!-- 2&#45;&gt;4 -->\n",
       "<g class=\"edge\" id=\"edge4\">\n",
       "<title>2-&gt;4</title>\n",
       "<path d=\"M244.5,-103.73C244.5,-95.52 244.5,-86.86 244.5,-78.56\" fill=\"none\" stroke=\"black\"/>\n",
       "<polygon fill=\"black\" points=\"248,-78.3 244.5,-68.3 241,-78.3 248,-78.3\" stroke=\"black\"/>\n",
       "</g>\n",
       "<!-- 6 -->\n",
       "<g class=\"node\" id=\"node7\">\n",
       "<title>6</title>\n",
       "<polygon fill=\"#f7dac5\" points=\"489,-68 336,-68 336,0 489,0 489,-68\" stroke=\"black\"/>\n",
       "<text font-family=\"Times,serif\" font-size=\"14.00\" text-anchor=\"middle\" x=\"412.5\" y=\"-52.8\">gini = 0.613</text>\n",
       "<text font-family=\"Times,serif\" font-size=\"14.00\" text-anchor=\"middle\" x=\"412.5\" y=\"-37.8\">samples = 2531</text>\n",
       "<text font-family=\"Times,serif\" font-size=\"14.00\" text-anchor=\"middle\" x=\"412.5\" y=\"-22.8\">value = [1288, 771, 472]</text>\n",
       "<text font-family=\"Times,serif\" font-size=\"14.00\" text-anchor=\"middle\" x=\"412.5\" y=\"-7.8\">class = Low</text>\n",
       "</g>\n",
       "<!-- 5&#45;&gt;6 -->\n",
       "<g class=\"edge\" id=\"edge6\">\n",
       "<title>5-&gt;6</title>\n",
       "<path d=\"M494.72,-103.73C483.37,-94.24 471.31,-84.16 460.01,-74.72\" fill=\"none\" stroke=\"black\"/>\n",
       "<polygon fill=\"black\" points=\"462.26,-72.03 452.34,-68.3 457.77,-77.4 462.26,-72.03\" stroke=\"black\"/>\n",
       "</g>\n",
       "<!-- 7 -->\n",
       "<g class=\"node\" id=\"node8\">\n",
       "<title>7</title>\n",
       "<polygon fill=\"#fbfffd\" points=\"653.5,-68 507.5,-68 507.5,0 653.5,0 653.5,-68\" stroke=\"black\"/>\n",
       "<text font-family=\"Times,serif\" font-size=\"14.00\" text-anchor=\"middle\" x=\"580.5\" y=\"-52.8\">gini = 0.663</text>\n",
       "<text font-family=\"Times,serif\" font-size=\"14.00\" text-anchor=\"middle\" x=\"580.5\" y=\"-37.8\">samples = 776</text>\n",
       "<text font-family=\"Times,serif\" font-size=\"14.00\" text-anchor=\"middle\" x=\"580.5\" y=\"-22.8\">value = [221, 282, 273]</text>\n",
       "<text font-family=\"Times,serif\" font-size=\"14.00\" text-anchor=\"middle\" x=\"580.5\" y=\"-7.8\">class = Medium</text>\n",
       "</g>\n",
       "<!-- 5&#45;&gt;7 -->\n",
       "<g class=\"edge\" id=\"edge7\">\n",
       "<title>5-&gt;7</title>\n",
       "<path d=\"M557.28,-103.73C560.11,-95.34 563.11,-86.47 565.97,-78.01\" fill=\"none\" stroke=\"black\"/>\n",
       "<polygon fill=\"black\" points=\"569.36,-78.89 569.25,-68.3 562.73,-76.65 569.36,-78.89\" stroke=\"black\"/>\n",
       "</g>\n",
       "<!-- 9 -->\n",
       "<g class=\"node\" id=\"node10\">\n",
       "<title>9</title>\n",
       "<polygon fill=\"#f3edfd\" points=\"876,-187 709,-187 709,-104 876,-104 876,-187\" stroke=\"black\"/>\n",
       "<text font-family=\"Times,serif\" font-size=\"14.00\" text-anchor=\"middle\" x=\"792.5\" y=\"-171.8\">priors_count_1 &lt;= 0.5</text>\n",
       "<text font-family=\"Times,serif\" font-size=\"14.00\" text-anchor=\"middle\" x=\"792.5\" y=\"-156.8\">gini = 0.661</text>\n",
       "<text font-family=\"Times,serif\" font-size=\"14.00\" text-anchor=\"middle\" x=\"792.5\" y=\"-141.8\">samples = 7574</text>\n",
       "<text font-family=\"Times,serif\" font-size=\"14.00\" text-anchor=\"middle\" x=\"792.5\" y=\"-126.8\">value = [2152, 2475, 2947]</text>\n",
       "<text font-family=\"Times,serif\" font-size=\"14.00\" text-anchor=\"middle\" x=\"792.5\" y=\"-111.8\">class = High</text>\n",
       "</g>\n",
       "<!-- 8&#45;&gt;9 -->\n",
       "<g class=\"edge\" id=\"edge9\">\n",
       "<title>8-&gt;9</title>\n",
       "<path d=\"M792.5,-222.91C792.5,-214.65 792.5,-205.86 792.5,-197.3\" fill=\"none\" stroke=\"black\"/>\n",
       "<polygon fill=\"black\" points=\"796,-197.02 792.5,-187.02 789,-197.02 796,-197.02\" stroke=\"black\"/>\n",
       "</g>\n",
       "<!-- 12 -->\n",
       "<g class=\"node\" id=\"node13\">\n",
       "<title>12</title>\n",
       "<polygon fill=\"#f3c7a7\" points=\"1182,-187 1007,-187 1007,-104 1182,-104 1182,-187\" stroke=\"black\"/>\n",
       "<text font-family=\"Times,serif\" font-size=\"14.00\" text-anchor=\"middle\" x=\"1094.5\" y=\"-171.8\">age_cat_Less than 25 &lt;= 0.5</text>\n",
       "<text font-family=\"Times,serif\" font-size=\"14.00\" text-anchor=\"middle\" x=\"1094.5\" y=\"-156.8\">gini = 0.576</text>\n",
       "<text font-family=\"Times,serif\" font-size=\"14.00\" text-anchor=\"middle\" x=\"1094.5\" y=\"-141.8\">samples = 1819</text>\n",
       "<text font-family=\"Times,serif\" font-size=\"14.00\" text-anchor=\"middle\" x=\"1094.5\" y=\"-126.8\">value = [1049, 436, 334]</text>\n",
       "<text font-family=\"Times,serif\" font-size=\"14.00\" text-anchor=\"middle\" x=\"1094.5\" y=\"-111.8\">class = Low</text>\n",
       "</g>\n",
       "<!-- 8&#45;&gt;12 -->\n",
       "<g class=\"edge\" id=\"edge12\">\n",
       "<title>8-&gt;12</title>\n",
       "<path d=\"M876.22,-231.06C913.72,-216.54 958.17,-199.32 997.14,-184.22\" fill=\"none\" stroke=\"black\"/>\n",
       "<polygon fill=\"black\" points=\"998.86,-187.3 1006.92,-180.43 996.34,-180.78 998.86,-187.3\" stroke=\"black\"/>\n",
       "</g>\n",
       "<!-- 10 -->\n",
       "<g class=\"node\" id=\"node11\">\n",
       "<title>10</title>\n",
       "<polygon fill=\"#ede2fb\" points=\"839,-68 672,-68 672,0 839,0 839,-68\" stroke=\"black\"/>\n",
       "<text font-family=\"Times,serif\" font-size=\"14.00\" text-anchor=\"middle\" x=\"755.5\" y=\"-52.8\">gini = 0.647</text>\n",
       "<text font-family=\"Times,serif\" font-size=\"14.00\" text-anchor=\"middle\" x=\"755.5\" y=\"-37.8\">samples = 6018</text>\n",
       "<text font-family=\"Times,serif\" font-size=\"14.00\" text-anchor=\"middle\" x=\"755.5\" y=\"-22.8\">value = [1409, 2016, 2593]</text>\n",
       "<text font-family=\"Times,serif\" font-size=\"14.00\" text-anchor=\"middle\" x=\"755.5\" y=\"-7.8\">class = High</text>\n",
       "</g>\n",
       "<!-- 9&#45;&gt;10 -->\n",
       "<g class=\"edge\" id=\"edge10\">\n",
       "<title>9-&gt;10</title>\n",
       "<path d=\"M778.72,-103.73C775.89,-95.34 772.89,-86.47 770.03,-78.01\" fill=\"none\" stroke=\"black\"/>\n",
       "<polygon fill=\"black\" points=\"773.27,-76.65 766.75,-68.3 766.64,-78.89 773.27,-76.65\" stroke=\"black\"/>\n",
       "</g>\n",
       "<!-- 11 -->\n",
       "<g class=\"node\" id=\"node12\">\n",
       "<title>11</title>\n",
       "<polygon fill=\"#f8decc\" points=\"1003.5,-68 857.5,-68 857.5,0 1003.5,0 1003.5,-68\" stroke=\"black\"/>\n",
       "<text font-family=\"Times,serif\" font-size=\"14.00\" text-anchor=\"middle\" x=\"930.5\" y=\"-52.8\">gini = 0.633</text>\n",
       "<text font-family=\"Times,serif\" font-size=\"14.00\" text-anchor=\"middle\" x=\"930.5\" y=\"-37.8\">samples = 1556</text>\n",
       "<text font-family=\"Times,serif\" font-size=\"14.00\" text-anchor=\"middle\" x=\"930.5\" y=\"-22.8\">value = [743, 459, 354]</text>\n",
       "<text font-family=\"Times,serif\" font-size=\"14.00\" text-anchor=\"middle\" x=\"930.5\" y=\"-7.8\">class = Low</text>\n",
       "</g>\n",
       "<!-- 9&#45;&gt;11 -->\n",
       "<g class=\"edge\" id=\"edge11\">\n",
       "<title>9-&gt;11</title>\n",
       "<path d=\"M843.89,-103.73C855.84,-94.24 868.55,-84.16 880.45,-74.72\" fill=\"none\" stroke=\"black\"/>\n",
       "<polygon fill=\"black\" points=\"882.88,-77.26 888.53,-68.3 878.52,-71.77 882.88,-77.26\" stroke=\"black\"/>\n",
       "</g>\n",
       "<!-- 13 -->\n",
       "<g class=\"node\" id=\"node14\">\n",
       "<title>13</title>\n",
       "<polygon fill=\"#eeab7b\" points=\"1167.5,-68 1021.5,-68 1021.5,0 1167.5,0 1167.5,-68\" stroke=\"black\"/>\n",
       "<text font-family=\"Times,serif\" font-size=\"14.00\" text-anchor=\"middle\" x=\"1094.5\" y=\"-52.8\">gini = 0.437</text>\n",
       "<text font-family=\"Times,serif\" font-size=\"14.00\" text-anchor=\"middle\" x=\"1094.5\" y=\"-37.8\">samples = 991</text>\n",
       "<text font-family=\"Times,serif\" font-size=\"14.00\" text-anchor=\"middle\" x=\"1094.5\" y=\"-22.8\">value = [717, 164, 110]</text>\n",
       "<text font-family=\"Times,serif\" font-size=\"14.00\" text-anchor=\"middle\" x=\"1094.5\" y=\"-7.8\">class = Low</text>\n",
       "</g>\n",
       "<!-- 12&#45;&gt;13 -->\n",
       "<g class=\"edge\" id=\"edge13\">\n",
       "<title>12-&gt;13</title>\n",
       "<path d=\"M1094.5,-103.73C1094.5,-95.52 1094.5,-86.86 1094.5,-78.56\" fill=\"none\" stroke=\"black\"/>\n",
       "<polygon fill=\"black\" points=\"1098,-78.3 1094.5,-68.3 1091,-78.3 1098,-78.3\" stroke=\"black\"/>\n",
       "</g>\n",
       "<!-- 14 -->\n",
       "<g class=\"node\" id=\"node15\">\n",
       "<title>14</title>\n",
       "<polygon fill=\"#fcf1ea\" points=\"1331.5,-68 1185.5,-68 1185.5,0 1331.5,0 1331.5,-68\" stroke=\"black\"/>\n",
       "<text font-family=\"Times,serif\" font-size=\"14.00\" text-anchor=\"middle\" x=\"1258.5\" y=\"-52.8\">gini = 0.658</text>\n",
       "<text font-family=\"Times,serif\" font-size=\"14.00\" text-anchor=\"middle\" x=\"1258.5\" y=\"-37.8\">samples = 828</text>\n",
       "<text font-family=\"Times,serif\" font-size=\"14.00\" text-anchor=\"middle\" x=\"1258.5\" y=\"-22.8\">value = [332, 272, 224]</text>\n",
       "<text font-family=\"Times,serif\" font-size=\"14.00\" text-anchor=\"middle\" x=\"1258.5\" y=\"-7.8\">class = Low</text>\n",
       "</g>\n",
       "<!-- 12&#45;&gt;14 -->\n",
       "<g class=\"edge\" id=\"edge14\">\n",
       "<title>12-&gt;14</title>\n",
       "<path d=\"M1155.57,-103.73C1170.26,-93.92 1185.91,-83.46 1200.46,-73.75\" fill=\"none\" stroke=\"black\"/>\n",
       "<polygon fill=\"black\" points=\"1202.51,-76.59 1208.89,-68.13 1198.63,-70.77 1202.51,-76.59\" stroke=\"black\"/>\n",
       "</g>\n",
       "</g>\n",
       "</svg>"
      ],
      "text/plain": [
       "<IPython.core.display.SVG object>"
      ]
     },
     "metadata": {},
     "output_type": "display_data"
    }
   ],
   "source": [
    "# Vanilla ML\n",
    "X = df_selected[set(df_selected.columns) - set([target])]\n",
    "Y = df_selected[target]\n",
    "estimator = DecisionTreeClassifier(random_state=0, criterion='gini', splitter='best', max_depth=3)\n",
    "estimator.fit(X, Y)\n",
    "\n",
    "# Render Decision Tree\n",
    "labels = X.columns\n",
    "graph = Source(export_graphviz(estimator, out_file=None, feature_names=labels, class_names=['Low', 'Medium', 'High'], filled=True))\n",
    "display(SVG(graph.pipe(format='svg')))"
   ]
  },
  {
   "cell_type": "markdown",
   "metadata": {},
   "source": [
    "### What happens if racial profiling skews the data even further?"
   ]
  },
  {
   "cell_type": "code",
   "execution_count": 56,
   "metadata": {
    "scrolled": true
   },
   "outputs": [
    {
     "data": {
      "application/vnd.jupyter.widget-view+json": {
       "model_id": "52d9146845c74a00ace1f8160fbabcef",
       "version_major": 2,
       "version_minor": 0
      },
      "text/plain": [
       "interactive(children=(Checkbox(value=False, description='racial_profiling'), Output()), _dom_classes=('widget-…"
      ]
     },
     "metadata": {},
     "output_type": "display_data"
    }
   ],
   "source": [
    "protected_value = 'race_African-American'\n",
    "\n",
    "\n",
    "# If a given row x (a training example) has 'racepctblack' greater than the median value, then\n",
    "# multiply the outcome 'ViolentCrimesPerPop' by the user-defined ratio; otherwise, multiply by\n",
    "# the inverse of the user-defined ratio.\n",
    "# Interpretation: the greater the ratio, the worst is the bias against communities with above\n",
    "# average Black populations; the smaller the ratio, the more favorable is the bias; setting to\n",
    "# 1.0 keeps the data in its original form.\n",
    "\n",
    "def apply_bias(x):\n",
    "    global protected_value\n",
    "    if (x[protected_value] and x[target] != 2):\n",
    "        return x[target] + 1\n",
    "    return x[target]\n",
    "\n",
    "\n",
    "def plot_tree(racial_profiling=False):\n",
    "    df_biased = df_selected.copy(deep=True)\n",
    "    df_biased[target] = df_biased.apply(apply_bias, axis=1)\n",
    "    \n",
    "    # Vanilla ML\n",
    "    X = df_biased[set(df_biased.columns) - set([target])]\n",
    "    Y = df_biased[target]\n",
    "    estimator = DecisionTreeClassifier(random_state=0, criterion='gini', splitter='best', max_depth=3)\n",
    "    estimator.fit(X, Y)\n",
    "    \n",
    "    # Render Decision Tree\n",
    "    labels = X.columns\n",
    "    graph = Source(export_graphviz(estimator, out_file=None, feature_names=labels, class_names=['Low', 'Medium', 'High'], filled=True))\n",
    "    display(SVG(graph.pipe(format='svg')))\n",
    "    return estimator\n",
    "\n",
    "\n",
    "inter2=interactive(plot_tree, racial_profiling=False)\n",
    "display(inter2)"
   ]
  },
  {
   "cell_type": "code",
   "execution_count": null,
   "metadata": {},
   "outputs": [],
   "source": []
  },
  {
   "cell_type": "code",
   "execution_count": null,
   "metadata": {},
   "outputs": [],
   "source": []
  }
 ],
 "metadata": {
  "kernelspec": {
   "display_name": "fairml",
   "language": "python",
   "name": "fairml"
  },
  "language_info": {
   "codemirror_mode": {
    "name": "ipython",
    "version": 3
   },
   "file_extension": ".py",
   "mimetype": "text/x-python",
   "name": "python",
   "nbconvert_exporter": "python",
   "pygments_lexer": "ipython3",
   "version": "3.7.9"
  }
 },
 "nbformat": 4,
 "nbformat_minor": 4
}
